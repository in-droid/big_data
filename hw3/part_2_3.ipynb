{
 "cells": [
  {
   "cell_type": "code",
   "execution_count": null,
   "id": "934d67cb",
   "metadata": {},
   "outputs": [],
   "source": [
    "import dask.dataframe as dd\n",
    "import pandas as pd\n",
    "\n",
    "# Load your taxi data\n",
    "# OUTPUT_DIR = '/d/hpc/projects/FRI/bigdata/students/in7357/out'\n",
    "OUTPUT_DIR = '/home/ivan/FRI/2024-2025/sem2/bd/hw3/data/out'\n",
    "from dask.diagnostics import ProgressBar\n",
    "\n",
    "events = dd.read_csv('/d/hpc/projects/FRI/bigdata/students/in7357/nyc_event_data', assume_missing=True)"
   ]
  },
  {
   "cell_type": "code",
   "execution_count": 2,
   "id": "248eccef",
   "metadata": {},
   "outputs": [
    {
     "data": {
      "text/html": [
       "<div>\n",
       "<style scoped>\n",
       "    .dataframe tbody tr th:only-of-type {\n",
       "        vertical-align: middle;\n",
       "    }\n",
       "\n",
       "    .dataframe tbody tr th {\n",
       "        vertical-align: top;\n",
       "    }\n",
       "\n",
       "    .dataframe thead th {\n",
       "        text-align: right;\n",
       "    }\n",
       "</style>\n",
       "<table border=\"1\" class=\"dataframe\">\n",
       "  <thead>\n",
       "    <tr style=\"text-align: right;\">\n",
       "      <th></th>\n",
       "      <th>Event ID</th>\n",
       "      <th>Event Name</th>\n",
       "      <th>Start Date/Time</th>\n",
       "      <th>End Date/Time</th>\n",
       "      <th>Event Agency</th>\n",
       "      <th>Event Type</th>\n",
       "      <th>Event Borough</th>\n",
       "      <th>Event Location</th>\n",
       "      <th>Event Street Side</th>\n",
       "      <th>Street Closure Type</th>\n",
       "      <th>Community Board</th>\n",
       "      <th>Police Precinct</th>\n",
       "    </tr>\n",
       "  </thead>\n",
       "  <tbody>\n",
       "    <tr>\n",
       "      <th>0</th>\n",
       "      <td>368421.0</td>\n",
       "      <td>Big Apple Circus</td>\n",
       "      <td>11/18/2017 07:00:00 PM</td>\n",
       "      <td>11/18/2017 08:00:00 PM</td>\n",
       "      <td>Parks Department</td>\n",
       "      <td>Special Event</td>\n",
       "      <td>Manhattan</td>\n",
       "      <td>Damrosch Park: Damrosch Park ,Damrosch Park: T...</td>\n",
       "      <td>&lt;NA&gt;</td>\n",
       "      <td>&lt;NA&gt;</td>\n",
       "      <td>7,</td>\n",
       "      <td>20,</td>\n",
       "    </tr>\n",
       "    <tr>\n",
       "      <th>1</th>\n",
       "      <td>330050.0</td>\n",
       "      <td>Mt. Eden Farmer's Market</td>\n",
       "      <td>11/16/2017 08:00:00 AM</td>\n",
       "      <td>11/16/2017 04:00:00 PM</td>\n",
       "      <td>Parks Department</td>\n",
       "      <td>Special Event</td>\n",
       "      <td>Bronx</td>\n",
       "      <td>Mount Eden Malls: Mount Eden Malls</td>\n",
       "      <td>&lt;NA&gt;</td>\n",
       "      <td>&lt;NA&gt;</td>\n",
       "      <td>4,</td>\n",
       "      <td>44,</td>\n",
       "    </tr>\n",
       "  </tbody>\n",
       "</table>\n",
       "</div>"
      ],
      "text/plain": [
       "   Event ID                Event Name         Start Date/Time  \\\n",
       "0  368421.0          Big Apple Circus  11/18/2017 07:00:00 PM   \n",
       "1  330050.0  Mt. Eden Farmer's Market  11/16/2017 08:00:00 AM   \n",
       "\n",
       "            End Date/Time      Event Agency     Event Type Event Borough  \\\n",
       "0  11/18/2017 08:00:00 PM  Parks Department  Special Event     Manhattan   \n",
       "1  11/16/2017 04:00:00 PM  Parks Department  Special Event         Bronx   \n",
       "\n",
       "                                      Event Location Event Street Side  \\\n",
       "0  Damrosch Park: Damrosch Park ,Damrosch Park: T...              <NA>   \n",
       "1                Mount Eden Malls: Mount Eden Malls               <NA>   \n",
       "\n",
       "  Street Closure Type Community Board Police Precinct  \n",
       "0                <NA>             7,             20,   \n",
       "1                <NA>             4,             44,   "
      ]
     },
     "execution_count": 2,
     "metadata": {},
     "output_type": "execute_result"
    }
   ],
   "source": [
    "events.head(2)"
   ]
  },
  {
   "cell_type": "code",
   "execution_count": 3,
   "id": "83ed9ee8",
   "metadata": {},
   "outputs": [],
   "source": [
    "events['Start Date/Time'] = dd.to_datetime(events['Start Date/Time'], format='%m/%d/%Y %I:%M:%S %p')\n",
    "events['End Date/Time'] = dd.to_datetime(events['End Date/Time'], format='%m/%d/%Y %I:%M:%S %p')"
   ]
  },
  {
   "cell_type": "code",
   "execution_count": 4,
   "id": "8f63d908",
   "metadata": {},
   "outputs": [],
   "source": [
    "selected_iterval = (events['Start Date/Time'] > '2020-01-01') & (events['Start Date/Time'] < '2024-03-01')\n",
    "events = events[selected_iterval]"
   ]
  },
  {
   "cell_type": "code",
   "execution_count": null,
   "id": "0a27d980",
   "metadata": {},
   "outputs": [],
   "source": [
    "important_event_types = [\n",
    "    \"Marathon\", \n",
    "    \"BID Multi-Block\", \n",
    "    \"Rally\", \n",
    "    # \"Parade\", \n",
    "    # \"Plaza Event\", \n",
    "    \"Festival\", \n",
    "    \"Health Fair\", \n",
    "    # \"Parade\"\n",
    "]\n",
    "# Filter out rows based on Event Name\n",
    "events = events[events['Event Type'].isin(important_event_types)]"
   ]
  },
  {
   "cell_type": "code",
   "execution_count": null,
   "id": "69be4baf",
   "metadata": {},
   "outputs": [
    {
     "data": {
      "text/plain": [
       "Event Type\n",
       "Parade             19438\n",
       "Plaza Event        13152\n",
       "Health Fair         1040\n",
       "Marathon               7\n",
       "BID Multi-Block       40\n",
       "Rally                164\n",
       "Name: count, dtype: int64[pyarrow]"
      ]
     },
     "execution_count": 10,
     "metadata": {},
     "output_type": "execute_result"
    },
    {
     "name": "stderr",
     "output_type": "stream",
     "text": [
      "/d/hpc/home/in7357/.conda/envs/big_data311/lib/python3.11/site-packages/dask/dataframe/core.py:375: UserWarning: Insufficient elements for `head`. 10 elements requested, only 0 elements available. Try passing larger `npartitions` to `head`.\n",
      "  warnings.warn(\n"
     ]
    }
   ],
   "source": [
    "events['Event Type'].value_counts().compute()"
   ]
  },
  {
   "cell_type": "code",
   "execution_count": 12,
   "id": "59864ff3",
   "metadata": {},
   "outputs": [],
   "source": [
    "events_df = events.compute()"
   ]
  },
  {
   "cell_type": "code",
   "execution_count": 13,
   "id": "0d1e75e2",
   "metadata": {},
   "outputs": [
    {
     "data": {
      "text/plain": [
       "33841"
      ]
     },
     "execution_count": 13,
     "metadata": {},
     "output_type": "execute_result"
    }
   ],
   "source": [
    "len(events_df)"
   ]
  },
  {
   "cell_type": "code",
   "execution_count": null,
   "id": "19041165",
   "metadata": {},
   "outputs": [],
   "source": [
    "# events_df.to_csv(f'{OUTPUT_DIR}/events_filtered.csv', index=False)"
   ]
  },
  {
   "cell_type": "code",
   "execution_count": 3,
   "id": "6fe4ecf0",
   "metadata": {},
   "outputs": [],
   "source": [
    "important_event_types = [\n",
    "    \"Marathon\", \n",
    "    \"BID Multi-Block\", \n",
    "    \"Rally\", \n",
    "    # \"Parade\", \n",
    "    # \"Plaza Event\", \n",
    "    \"Festival\", \n",
    "    \"Health Fair\", \n",
    "    # \"Parade\"\n",
    "]"
   ]
  },
  {
   "cell_type": "code",
   "execution_count": 4,
   "id": "41a1cbb9",
   "metadata": {},
   "outputs": [
    {
     "data": {
      "text/plain": [
       "1251"
      ]
     },
     "execution_count": 4,
     "metadata": {},
     "output_type": "execute_result"
    }
   ],
   "source": [
    "events_df = pd.read_csv(f'{OUTPUT_DIR}/events_filtered.csv')\n",
    "events_df = events_df[events_df['Event Type'].isin(important_event_types)]\n",
    "len(events_df)"
   ]
  },
  {
   "cell_type": "code",
   "execution_count": 5,
   "id": "229d5d3e",
   "metadata": {},
   "outputs": [],
   "source": [
    "events_df['Event ID'] = events_df['Event ID'].astype(int)\n",
    "events_df['Event Location'].value_counts()\n",
    "\n",
    "events_df['Event Location'] = events_df['Event Location'].str.split('between').str[0]\n"
   ]
  },
  {
   "cell_type": "code",
   "execution_count": 6,
   "id": "a83215dc",
   "metadata": {},
   "outputs": [
    {
     "data": {
      "text/plain": [
       "Event Location\n",
       "MORNINGSIDE AVENUE     34\n",
       "WEST  119 STREET       26\n",
       "WEST  123 STREET       25\n",
       "FURMAN AVENUE          24\n",
       "MONTEREY AVENUE        22\n",
       "                       ..\n",
       "EAST GUN HILL ROAD      1\n",
       "WEST  145 STREET        1\n",
       "HARMAN STREET           1\n",
       "ROCKAWAY PARKWAY        1\n",
       "116 AVENUE              1\n",
       "Name: count, Length: 182, dtype: int64"
      ]
     },
     "execution_count": 6,
     "metadata": {},
     "output_type": "execute_result"
    }
   ],
   "source": [
    "events_df['Event Location'].value_counts()"
   ]
  },
  {
   "cell_type": "code",
   "execution_count": 7,
   "id": "91c7baf3",
   "metadata": {},
   "outputs": [
    {
     "name": "stdout",
     "output_type": "stream",
     "text": [
      "(40.71225982427319, -73.98374241026366)\n"
     ]
    }
   ],
   "source": [
    "from geopy.geocoders import Nominatim\n",
    "from geopy.extra.rate_limiter import RateLimiter\n",
    "from geopy.exc import GeocoderTimedOut, GeocoderUnavailable\n",
    "\n",
    "# Initialize Nominatim geocoder\n",
    "geolocator = Nominatim(user_agent=\"event_location_geocoder\", timeout=10)\n",
    "geocode = RateLimiter(geolocator.geocode, min_delay_seconds=1)\n",
    "\n",
    "def preprocess_location(location):\n",
    "    # Clean and format the location string\n",
    "    location = (\n",
    "        location.replace(\"between\", \"&\")\n",
    "        .replace(\" and \", \" & \")\n",
    "        .replace(\"STREET\", \"St\")\n",
    "        .replace(\"BOULEVARD\", \"Blvd\")\n",
    "        .replace(\"BROADWAY\", \"Broadway\")\n",
    "        + \", New York, NY\"  # Add city/state for better accuracy\n",
    "    )\n",
    "    return location\n",
    "\n",
    "def get_coordinates(location):\n",
    "    try:\n",
    "        location = preprocess_location(location)\n",
    "        result = geocode(location)\n",
    "        if result:\n",
    "            return (result.latitude, result.longitude)\n",
    "        else:\n",
    "            return (None, None)\n",
    "    except (GeocoderTimedOut, GeocoderUnavailable):\n",
    "        return (None, None)\n",
    "\n",
    "\n",
    "location = \"GOUVERNEUR STREET\"\n",
    "print(get_coordinates(location)) "
   ]
  },
  {
   "cell_type": "code",
   "execution_count": null,
   "id": "8221038c",
   "metadata": {},
   "outputs": [],
   "source": [
    "unique_locations = events_df['Event Location'].unique()\n",
    "\n",
    "# Create a DataFrame to store coordinates\n",
    "locations_df = pd.DataFrame(unique_locations, columns=['Event Location'])\n",
    "locations_df[['lat', 'lon']] = locations_df['Event Location'].apply(\n",
    "    lambda x: pd.Series(get_coordinates(x)))"
   ]
  },
  {
   "cell_type": "code",
   "execution_count": 10,
   "id": "55d52cb0",
   "metadata": {},
   "outputs": [
    {
     "data": {
      "application/vnd.microsoft.datawrangler.viewer.v0+json": {
       "columns": [
        {
         "name": "index",
         "rawType": "int64",
         "type": "integer"
        },
        {
         "name": "Event Location",
         "rawType": "object",
         "type": "string"
        },
        {
         "name": "lat",
         "rawType": "float64",
         "type": "float"
        },
        {
         "name": "lon",
         "rawType": "float64",
         "type": "float"
        }
       ],
       "conversionMethod": "pd.DataFrame",
       "ref": "3d42daa7-853f-4bfe-ae0c-2a20ff4687bb",
       "rows": [
        [
         "4",
         " PITKIN AVENUE ",
         "40.673352769098045",
         "-73.88602931522314"
        ],
        [
         "7",
         " OLD BROADWAY ",
         "40.9851507049767",
         "-73.8798954864504"
        ],
        [
         "8",
         " MORNINGSIDE AVENUE ",
         "40.81103153049518",
         "-73.95425939283174"
        ],
        [
         "11",
         " BENEDICT AVENUE ",
         "40.62289877236086",
         "-74.12612180228582"
        ],
        [
         "14",
         " EAST  114 STREET ",
         "43.1498875",
         "-77.6032182"
        ],
        [
         "16",
         " SAINT NICHOLAS AVENUE ",
         "40.82519324724619",
         "-73.94391344619598"
        ],
        [
         "17",
         " WEST  152 STREET ",
         "40.82918802593054",
         "-73.94329916012161"
        ],
        [
         "18",
         " BATHGATE AVENUE ",
         "40.84776846842514",
         "-73.89667247424725"
        ],
        [
         "19",
         " HIGHLAND AVENUE ",
         "40.7134975539623",
         "-73.7884420340373"
        ],
        [
         "21",
         " EAST  153 STREET ",
         "40.6482478",
         "-73.9782"
        ],
        [
         "22",
         " EAST  160 STREET ",
         "40.7446724",
         "-73.9801625"
        ],
        [
         "23",
         " BUSH STREET ",
         "40.6732989",
         "-74.000413"
        ],
        [
         "24",
         " CLAY AVENUE ",
         "40.83556564567651",
         "-73.90880284228719"
        ],
        [
         "25",
         " ST MARKS AVENUE ",
         "43.053317",
         "-76.186933"
        ],
        [
         "26",
         " EAST  188 STREET ",
         "43.1569693",
         "-77.5942078"
        ],
        [
         "27",
         " HIGHLAWN AVENUE ",
         "40.60297573937132",
         "-73.98342129872931"
        ],
        [
         "28",
         " THOMAS S BOYLAND STREET ",
         "40.6808307351466",
         "-73.91405956690507"
        ],
        [
         "29",
         " WEST BURNSIDE AVENUE ",
         "40.853887834811225",
         "-73.91440254329599"
        ],
        [
         "30",
         " WEST  153 STREET ",
         "42.6573541",
         "-73.7549862"
        ],
        [
         "31",
         " WEST   33 STREET ",
         "40.7576139",
         "-73.9802272"
        ],
        [
         "32",
         " DEKALB AVENUE ",
         "40.690635",
         "-73.981824"
        ],
        [
         "33",
         " EAST   37 STREET ",
         "43.15844085",
         "-77.59703989380404"
        ],
        [
         "34",
         " WEST  114 STREET ",
         "42.6657088",
         "-73.7727053"
        ],
        [
         "35",
         " COOPER STREET ",
         "40.686476",
         "-73.90863"
        ],
        [
         "37",
         "Hamilton Plaza: Johnny Hartman Plaza Hamilton Pl ",
         "40.82416315",
         "-73.94858966651292"
        ],
        [
         "38",
         "EAST  165 STREET ",
         "43.1463842",
         "-77.5749792"
        ],
        [
         "39",
         "ATTORNEY STREET ",
         "40.71976333318104",
         "-73.98375477308608"
        ],
        [
         "40",
         "EAST  123 STREET ",
         "42.910978",
         "-78.8611922"
        ],
        [
         "41",
         "MONTEREY AVENUE ",
         "40.55558184527147",
         "-74.17427259394697"
        ],
        [
         "42",
         "KISSENA BOULEVARD ",
         "40.72828801634656",
         "-73.81531454497647"
        ],
        [
         "43",
         "WEST  148 STREET ",
         "42.66078495",
         "-73.76838600374087"
        ],
        [
         "44",
         "WEST  119 STREET ",
         "40.80670828264944",
         "-73.95480144429123"
        ],
        [
         "45",
         "MORNINGSIDE AVENUE ",
         "40.81103153049518",
         "-73.95425939283174"
        ],
        [
         "46",
         "120 STREET ",
         "43.0632344",
         "-77.2329478"
        ],
        [
         "47",
         "WEST  123 STREET ",
         "42.8711323",
         "-78.7987461"
        ],
        [
         "48",
         "EAST  166 STREET ",
         "40.7211114",
         "-73.9891168"
        ],
        [
         "49",
         "BENEDICT AVENUE ",
         "40.62289877236086",
         "-74.12612180228582"
        ],
        [
         "50",
         "EAST  150 STREET ",
         "40.75978",
         "-73.9688719"
        ],
        [
         "51",
         "40 ROAD ",
         "41.08498595",
         "-73.8110389778553"
        ],
        [
         "52",
         "EAST  139 STREET ",
         "40.7532023",
         "-73.9739738"
        ],
        [
         "55",
         "WEST  162 STREET ",
         "40.7646025",
         "-73.9804719"
        ],
        [
         "56",
         "NORFOLK STREET ",
         "40.71912108486204",
         "-73.98699858538637"
        ],
        [
         "57",
         "WEST  126 STREET ",
         "42.6604948",
         "-73.7737718"
        ],
        [
         "58",
         "WATERBURY AVENUE ",
         "40.838151",
         "-73.822235"
        ],
        [
         "59",
         "EAST   96 STREET ",
         "40.7861923802791",
         "-73.95168713928884"
        ],
        [
         "61",
         "EAST  114 STREET ",
         "43.1498875",
         "-77.6032182"
        ],
        [
         "62",
         "WEST   29 STREET ",
         "42.8505185",
         "-78.8026199"
        ],
        [
         "63",
         "HESTER STREET ",
         "40.71586856509972",
         "-73.99077009544389"
        ],
        [
         "64",
         "WEST  152 STREET ",
         "40.82918802593054",
         "-73.94329916012161"
        ],
        [
         "65",
         "SOUNDVIEW AVENUE ",
         "40.822183968212194",
         "-73.8668412428004"
        ]
       ],
       "shape": {
        "columns": 3,
        "rows": 166
       }
      },
      "text/html": [
       "<div>\n",
       "<style scoped>\n",
       "    .dataframe tbody tr th:only-of-type {\n",
       "        vertical-align: middle;\n",
       "    }\n",
       "\n",
       "    .dataframe tbody tr th {\n",
       "        vertical-align: top;\n",
       "    }\n",
       "\n",
       "    .dataframe thead th {\n",
       "        text-align: right;\n",
       "    }\n",
       "</style>\n",
       "<table border=\"1\" class=\"dataframe\">\n",
       "  <thead>\n",
       "    <tr style=\"text-align: right;\">\n",
       "      <th></th>\n",
       "      <th>Event Location</th>\n",
       "      <th>lat</th>\n",
       "      <th>lon</th>\n",
       "    </tr>\n",
       "  </thead>\n",
       "  <tbody>\n",
       "    <tr>\n",
       "      <th>4</th>\n",
       "      <td>PITKIN AVENUE</td>\n",
       "      <td>40.673353</td>\n",
       "      <td>-73.886029</td>\n",
       "    </tr>\n",
       "    <tr>\n",
       "      <th>7</th>\n",
       "      <td>OLD BROADWAY</td>\n",
       "      <td>40.985151</td>\n",
       "      <td>-73.879895</td>\n",
       "    </tr>\n",
       "    <tr>\n",
       "      <th>8</th>\n",
       "      <td>MORNINGSIDE AVENUE</td>\n",
       "      <td>40.811032</td>\n",
       "      <td>-73.954259</td>\n",
       "    </tr>\n",
       "    <tr>\n",
       "      <th>11</th>\n",
       "      <td>BENEDICT AVENUE</td>\n",
       "      <td>40.622899</td>\n",
       "      <td>-74.126122</td>\n",
       "    </tr>\n",
       "    <tr>\n",
       "      <th>14</th>\n",
       "      <td>EAST  114 STREET</td>\n",
       "      <td>43.149887</td>\n",
       "      <td>-77.603218</td>\n",
       "    </tr>\n",
       "    <tr>\n",
       "      <th>...</th>\n",
       "      <td>...</td>\n",
       "      <td>...</td>\n",
       "      <td>...</td>\n",
       "    </tr>\n",
       "    <tr>\n",
       "      <th>177</th>\n",
       "      <td>LIBERTY STREET</td>\n",
       "      <td>40.709994</td>\n",
       "      <td>-74.012325</td>\n",
       "    </tr>\n",
       "    <tr>\n",
       "      <th>178</th>\n",
       "      <td>FRANKLIN AVENUE</td>\n",
       "      <td>40.670681</td>\n",
       "      <td>-73.957973</td>\n",
       "    </tr>\n",
       "    <tr>\n",
       "      <th>179</th>\n",
       "      <td>HULL STREET</td>\n",
       "      <td>40.679362</td>\n",
       "      <td>-73.912410</td>\n",
       "    </tr>\n",
       "    <tr>\n",
       "      <th>180</th>\n",
       "      <td>EAST   38 STREET</td>\n",
       "      <td>40.746797</td>\n",
       "      <td>-73.972865</td>\n",
       "    </tr>\n",
       "    <tr>\n",
       "      <th>181</th>\n",
       "      <td>WEST  134 STREET</td>\n",
       "      <td>42.838331</td>\n",
       "      <td>-78.802489</td>\n",
       "    </tr>\n",
       "  </tbody>\n",
       "</table>\n",
       "<p>166 rows × 3 columns</p>\n",
       "</div>"
      ],
      "text/plain": [
       "           Event Location        lat        lon\n",
       "4          PITKIN AVENUE   40.673353 -73.886029\n",
       "7           OLD BROADWAY   40.985151 -73.879895\n",
       "8     MORNINGSIDE AVENUE   40.811032 -73.954259\n",
       "11       BENEDICT AVENUE   40.622899 -74.126122\n",
       "14      EAST  114 STREET   43.149887 -77.603218\n",
       "..                    ...        ...        ...\n",
       "177       LIBERTY STREET   40.709994 -74.012325\n",
       "178      FRANKLIN AVENUE   40.670681 -73.957973\n",
       "179          HULL STREET   40.679362 -73.912410\n",
       "180     EAST   38 STREET   40.746797 -73.972865\n",
       "181     WEST  134 STREET   42.838331 -78.802489\n",
       "\n",
       "[166 rows x 3 columns]"
      ]
     },
     "execution_count": 10,
     "metadata": {},
     "output_type": "execute_result"
    }
   ],
   "source": [
    "# locations_df.to_csv(f'{OUTPUT_DIR}/locations_coordinates.csv', index=False)\n",
    "locations_df = pd.read_csv(f'{OUTPUT_DIR}/locations_coordinates.csv')\n",
    "locations_df = locations_df.dropna()\n",
    "locations_df = locations_df.drop_duplicates(subset=['Event Location'])\n",
    "locations_df"
   ]
  },
  {
   "cell_type": "code",
   "execution_count": null,
   "id": "89146d0e",
   "metadata": {},
   "outputs": [
    {
     "name": "stderr",
     "output_type": "stream",
     "text": [
      "/tmp/ipykernel_586659/2842262886.py:18: UserWarning: Geometry is in a geographic CRS. Results from 'centroid' are likely incorrect. Use 'GeoSeries.to_crs()' to re-project geometries to a projected CRS before this operation.\n",
      "\n",
      "  gdf[\"latitude\"] = gdf.centroid.y\n",
      "/tmp/ipykernel_586659/2842262886.py:19: UserWarning: Geometry is in a geographic CRS. Results from 'centroid' are likely incorrect. Use 'GeoSeries.to_crs()' to re-project geometries to a projected CRS before this operation.\n",
      "\n",
      "  gdf[\"longitude\"] = gdf.centroid.x\n"
     ]
    }
   ],
   "source": [
    "import pandas as pd\n",
    "import dask.dataframe as dd\n",
    "import geopandas as gpd\n",
    "import zipfile\n",
    "import os\n",
    "\n",
    "\n",
    "zip_path = \"/home/ivan/FRI/2024-2025/sem2/bd/hw3/marko/taxi_zones.zip\"  \n",
    "extract_dir = \"/home/ivan/FRI/2024-2025/sem2/bd/hw3/marko/taxi_zones_shapefile\"\n",
    "\n",
    "with zipfile.ZipFile(zip_path, 'r') as zip_ref:\n",
    "    zip_ref.extractall(extract_dir)\n",
    "\n",
    "shp_file = [f for f in os.listdir(extract_dir) if f.endswith(\".shp\")][0]\n",
    "gdf = gpd.read_file(os.path.join(extract_dir, shp_file)).to_crs(\"EPSG:4326\")\n",
    "\n",
    "# Compute centroids\n",
    "gdf[\"latitude\"] = gdf.centroid.y\n",
    "gdf[\"longitude\"] = gdf.centroid.x\n",
    "zone_coords = gdf[[\"LocationID\", \"latitude\", \"longitude\"]].copy()\n",
    "pickup_zones = zone_coords.rename(columns={\n",
    "    \"LocationID\": \"pulocationid\",\n",
    "    \"latitude\": \"pickup_latitude\",\n",
    "    \"longitude\": \"pickup_longitude\"\n",
    "})\n",
    "dropoff_zones = zone_coords.rename(columns={\n",
    "    \"LocationID\": \"dolocationid\",\n",
    "    \"latitude\": \"dropoff_latitude\",\n",
    "    \"longitude\": \"dropoff_longitude\"\n",
    "})\n",
    "\n",
    "\n",
    "taxi_df = dd.read_parquet(f\"{OUTPUT_DIR}/optimized_parquet\")\n",
    "taxi_df['pulocationid'] = taxi_df['pulocationid'].astype('int32')\n",
    "taxi_df['dolocationid'] = taxi_df['dolocationid'].astype('int32')\n",
    "# Merge pickup and dropoff coordinates\n",
    "taxi_df = taxi_df.merge(pickup_zones, on=\"pulocationid\", how=\"left\")\n",
    "taxi_df = taxi_df.merge(dropoff_zones, on=\"dolocationid\", how=\"left\")\n",
    "\n"
   ]
  },
  {
   "cell_type": "code",
   "execution_count": 14,
   "id": "117f14e1",
   "metadata": {},
   "outputs": [],
   "source": [
    "# merge events with the locations\n",
    "\n",
    "events_merged = events_df.merge(locations_df, on='Event Location', how='left')\n",
    "events_merged = events_merged.dropna(subset=['lat', 'lon'])"
   ]
  },
  {
   "cell_type": "code",
   "execution_count": 15,
   "id": "4ead2e41",
   "metadata": {},
   "outputs": [],
   "source": [
    "events_merged_gdf = gpd.GeoDataFrame(\n",
    "    events_merged,\n",
    "    geometry=gpd.points_from_xy(events_merged['lon'], events_merged['lat']),\n",
    "    crs=\"EPSG:4326\"\n",
    ").to_crs(\"EPSG:32618\")"
   ]
  },
  {
   "cell_type": "code",
   "execution_count": 16,
   "id": "345eb5f9",
   "metadata": {},
   "outputs": [],
   "source": [
    "taxi_df = dd.read_csv(f\"{OUTPUT_DIR}/sample_taxi_data.csv\")"
   ]
  },
  {
   "cell_type": "code",
   "execution_count": 17,
   "id": "dae4813a",
   "metadata": {},
   "outputs": [],
   "source": [
    "# Merge with taxi data\n",
    "def process_partition(df_partition, events_gdf):\n",
    "    # Convert partition to pandas DataFrame\n",
    "    df = df_partition.copy()\n",
    "    \n",
    "    pickup_gdf = gpd.GeoDataFrame(\n",
    "        df,\n",
    "        geometry=gpd.points_from_xy(df.pickup_longitude, df.pickup_latitude),\n",
    "        crs=\"EPSG:4326\"\n",
    "    ).to_crs(\"EPSG:32618\")\n",
    "    \n",
    "    pickup_gdf['buffer'] = pickup_gdf.geometry.buffer(1000)\n",
    "    pickup_joined = gpd.sjoin(\n",
    "        pickup_gdf.set_geometry('buffer'), \n",
    "        events_gdf, \n",
    "        how='inner', \n",
    "        predicate='intersects'\n",
    "    )\n",
    "    pickup_events = pickup_joined[\n",
    "        pickup_joined.tpep_pickup_datetime.between(\n",
    "            pickup_joined['Start Date/Time'], \n",
    "            pickup_joined['End Date/Time']\n",
    "        )\n",
    "    ].groupby(level=0).size().rename('pickup_events')\n",
    "    \n",
    "    # Process dropoff events\n",
    "    dropoff_gdf = gpd.GeoDataFrame(\n",
    "        df,\n",
    "        geometry=gpd.points_from_xy(df.dropoff_longitude, df.dropoff_latitude),\n",
    "        crs=\"EPSG:4326\"\n",
    "    ).to_crs(\"EPSG:32618\")\n",
    "    \n",
    "    dropoff_gdf['buffer'] = dropoff_gdf.geometry.buffer(1000)\n",
    "    dropoff_joined = gpd.sjoin(\n",
    "        dropoff_gdf.set_geometry('buffer'), \n",
    "        events_gdf, \n",
    "        how='inner', \n",
    "        predicate='intersects'\n",
    "    )\n",
    "    dropoff_events = dropoff_joined[\n",
    "        dropoff_joined.tpep_dropoff_datetime.between(\n",
    "            dropoff_joined['Start Date/Time'], \n",
    "            dropoff_joined['End Date/Time']\n",
    "        )\n",
    "    ].groupby(level=0).size().rename('dropoff_events')\n",
    "    \n",
    "    # Merge results\n",
    "    return df.join(pickup_events, how='left') \\\n",
    "             .join(dropoff_events, how='left') \\\n",
    "             .fillna({'pickup_events': 0, 'dropoff_events': 0}) \\\n",
    "             .assign(total_events=lambda x: x.pickup_events + x.dropoff_events)\n",
    "\n",
    "# Apply processing to all partitions\n",
    "meta = taxi_df._meta.copy()\n",
    "meta['pickup_events'] = pd.Series(dtype='int64')\n",
    "meta['dropoff_events'] = pd.Series(dtype='int64')\n",
    "meta['total_events'] = pd.Series(dtype='int64')\n",
    "\n",
    "taxi_enriched = taxi_df.map_partitions(\n",
    "    process_partition,\n",
    "    events_gdf=events_merged_gdf,  \n",
    "    meta=meta)\n",
    "\n"
   ]
  },
  {
   "cell_type": "code",
   "execution_count": 18,
   "id": "4135caa8",
   "metadata": {},
   "outputs": [],
   "source": [
    "taxi_enriched = taxi_enriched.compute()"
   ]
  },
  {
   "cell_type": "code",
   "execution_count": 21,
   "id": "cd7bc886",
   "metadata": {},
   "outputs": [
    {
     "data": {
      "application/vnd.microsoft.datawrangler.viewer.v0+json": {
       "columns": [
        {
         "name": "index",
         "rawType": "int64",
         "type": "integer"
        },
        {
         "name": "vendorid",
         "rawType": "float64",
         "type": "float"
        },
        {
         "name": "tpep_pickup_datetime",
         "rawType": "string",
         "type": "string"
        },
        {
         "name": "tpep_dropoff_datetime",
         "rawType": "string",
         "type": "string"
        },
        {
         "name": "passenger_count",
         "rawType": "float64",
         "type": "float"
        },
        {
         "name": "trip_distance",
         "rawType": "float64",
         "type": "float"
        },
        {
         "name": "ratecodeid",
         "rawType": "float64",
         "type": "float"
        },
        {
         "name": "store_and_fwd_flag",
         "rawType": "string",
         "type": "string"
        },
        {
         "name": "pulocationid",
         "rawType": "int64",
         "type": "integer"
        },
        {
         "name": "dolocationid",
         "rawType": "int64",
         "type": "integer"
        },
        {
         "name": "payment_type",
         "rawType": "float64",
         "type": "float"
        },
        {
         "name": "fare_amount",
         "rawType": "float64",
         "type": "float"
        },
        {
         "name": "extra",
         "rawType": "float64",
         "type": "float"
        },
        {
         "name": "mta_tax",
         "rawType": "float64",
         "type": "float"
        },
        {
         "name": "tip_amount",
         "rawType": "float64",
         "type": "float"
        },
        {
         "name": "tolls_amount",
         "rawType": "float64",
         "type": "float"
        },
        {
         "name": "improvement_surcharge",
         "rawType": "float64",
         "type": "float"
        },
        {
         "name": "total_amount",
         "rawType": "float64",
         "type": "float"
        },
        {
         "name": "congestion_surcharge",
         "rawType": "float64",
         "type": "float"
        },
        {
         "name": "airport_fee",
         "rawType": "float64",
         "type": "float"
        },
        {
         "name": "year",
         "rawType": "int64",
         "type": "integer"
        },
        {
         "name": "pickup_latitude",
         "rawType": "float64",
         "type": "float"
        },
        {
         "name": "pickup_longitude",
         "rawType": "float64",
         "type": "float"
        },
        {
         "name": "dropoff_latitude",
         "rawType": "float64",
         "type": "float"
        },
        {
         "name": "dropoff_longitude",
         "rawType": "float64",
         "type": "float"
        },
        {
         "name": "pickup_events",
         "rawType": "float64",
         "type": "float"
        },
        {
         "name": "dropoff_events",
         "rawType": "float64",
         "type": "float"
        },
        {
         "name": "total_events",
         "rawType": "float64",
         "type": "float"
        }
       ],
       "conversionMethod": "pd.DataFrame",
       "ref": "eacccc36-e58a-47c6-9cbe-1f3a62eddde8",
       "rows": [
        [
         "0",
         "1.0",
         "2020-01-22 20:10:13",
         "2020-01-22 20:28:03",
         "1.0",
         "2.2",
         "1.0",
         "N",
         "100",
         "113",
         "1.0",
         "12.5",
         "3.0",
         "0.5",
         "3.26",
         "0.0",
         "0.3",
         "19.56",
         "2.5",
         null,
         "2020",
         "40.75351275872571",
         "-73.9887865991153",
         "40.73257907302701",
         "-73.99430477051165",
         "0.0",
         "0.0",
         "0.0"
        ],
        [
         "1",
         "2.0",
         "2020-01-18 23:54:57",
         "2020-01-19 00:04:55",
         "6.0",
         "1.96",
         "1.0",
         "N",
         "264",
         "264",
         "1.0",
         "9.0",
         "0.5",
         "0.5",
         "2.56",
         "0.0",
         "0.3",
         "15.36",
         "2.5",
         null,
         "2020",
         null,
         null,
         null,
         null,
         "0.0",
         "0.0",
         "0.0"
        ],
        [
         "2",
         "1.0",
         "2020-01-04 11:10:51",
         "2020-01-04 11:18:37",
         "3.0",
         "1.3",
         "1.0",
         "N",
         "161",
         "237",
         "2.0",
         "7.0",
         "2.5",
         "0.5",
         "0.0",
         "0.0",
         "0.3",
         "10.3",
         "2.5",
         null,
         "2020",
         "40.75802804352627",
         "-73.97769793122403",
         "40.76861518381156",
         "-73.9656345353807",
         "0.0",
         "0.0",
         "0.0"
        ],
        [
         "3",
         "2.0",
         "2020-01-23 08:05:22",
         "2020-01-23 08:17:23",
         "5.0",
         "1.73",
         "1.0",
         "N",
         "141",
         "162",
         "1.0",
         "9.5",
         "0.0",
         "0.5",
         "3.2",
         "0.0",
         "0.3",
         "16.0",
         "2.5",
         null,
         "2020",
         "40.76694821638321",
         "-73.95963474149167",
         "40.75668765218885",
         "-73.97235594352033",
         "0.0",
         "0.0",
         "0.0"
        ],
        [
         "4",
         "2.0",
         "2020-01-16 17:09:03",
         "2020-01-16 17:12:50",
         "1.0",
         "0.93",
         "1.0",
         "N",
         "263",
         "236",
         "1.0",
         "5.0",
         "1.0",
         "0.5",
         "1.86",
         "0.0",
         "0.3",
         "11.16",
         "2.5",
         null,
         "2020",
         "40.77876585543437",
         "-73.951009874818",
         "40.78043643718997",
         "-73.95701169835739",
         "0.0",
         "0.0",
         "0.0"
        ],
        [
         "5",
         "2.0",
         "2020-01-06 17:32:51",
         "2020-01-06 17:42:57",
         "1.0",
         "1.3",
         "1.0",
         "N",
         "79",
         "232",
         "1.0",
         "8.0",
         "1.0",
         "0.5",
         "2.46",
         "0.0",
         "0.3",
         "14.76",
         "2.5",
         null,
         "2020",
         "40.72762019590953",
         "-73.98593745682462",
         "40.71473250693941",
         "-73.98302455833492",
         "0.0",
         "0.0",
         "0.0"
        ],
        [
         "6",
         "2.0",
         "2020-01-21 22:49:19",
         "2020-01-21 22:59:49",
         "1.0",
         "3.44",
         "1.0",
         "N",
         "48",
         "238",
         "1.0",
         "12.5",
         "0.5",
         "0.5",
         "3.26",
         "0.0",
         "0.3",
         "19.56",
         "2.5",
         null,
         "2020",
         "40.76225275531936",
         "-73.98984464313301",
         "40.791704934427074",
         "-73.97304890061594",
         "0.0",
         "0.0",
         "0.0"
        ],
        [
         "7",
         "1.0",
         "2020-01-14 14:43:16",
         "2020-01-14 14:57:14",
         "1.0",
         "1.3",
         "1.0",
         "N",
         "170",
         "90",
         "1.0",
         "10.0",
         "2.5",
         "0.5",
         "3.3",
         "0.0",
         "0.3",
         "16.6",
         "2.5",
         null,
         "2020",
         "40.74774579364388",
         "-73.97849159965224",
         "40.7422786290123",
         "-73.99697141558369",
         "0.0",
         "0.0",
         "0.0"
        ],
        [
         "8",
         "2.0",
         "2020-01-30 07:06:00",
         "2020-01-30 07:44:00",
         null,
         "10.26",
         null,
         null,
         "69",
         "234",
         "0.0",
         "35.92",
         "2.75",
         "0.5",
         "0.0",
         "6.12",
         "0.3",
         "45.59",
         null,
         null,
         "2020",
         "40.83141669708519",
         "-73.91502929553265",
         "40.74033744175702",
         "-73.99045782354735",
         "0.0",
         "0.0",
         "0.0"
        ],
        [
         "9",
         "1.0",
         "2020-01-16 08:07:20",
         "2020-01-16 08:33:05",
         "1.0",
         "3.2",
         "1.0",
         "N",
         "238",
         "162",
         "1.0",
         "17.0",
         "2.5",
         "0.5",
         "3.05",
         "0.0",
         "0.3",
         "23.35",
         "2.5",
         null,
         "2020",
         "40.791704934427074",
         "-73.97304890061594",
         "40.75668765218885",
         "-73.97235594352033",
         "0.0",
         "0.0",
         "0.0"
        ]
       ],
       "shape": {
        "columns": 27,
        "rows": 10
       }
      },
      "text/html": [
       "<div>\n",
       "<style scoped>\n",
       "    .dataframe tbody tr th:only-of-type {\n",
       "        vertical-align: middle;\n",
       "    }\n",
       "\n",
       "    .dataframe tbody tr th {\n",
       "        vertical-align: top;\n",
       "    }\n",
       "\n",
       "    .dataframe thead th {\n",
       "        text-align: right;\n",
       "    }\n",
       "</style>\n",
       "<table border=\"1\" class=\"dataframe\">\n",
       "  <thead>\n",
       "    <tr style=\"text-align: right;\">\n",
       "      <th></th>\n",
       "      <th>vendorid</th>\n",
       "      <th>tpep_pickup_datetime</th>\n",
       "      <th>tpep_dropoff_datetime</th>\n",
       "      <th>passenger_count</th>\n",
       "      <th>trip_distance</th>\n",
       "      <th>ratecodeid</th>\n",
       "      <th>store_and_fwd_flag</th>\n",
       "      <th>pulocationid</th>\n",
       "      <th>dolocationid</th>\n",
       "      <th>payment_type</th>\n",
       "      <th>...</th>\n",
       "      <th>congestion_surcharge</th>\n",
       "      <th>airport_fee</th>\n",
       "      <th>year</th>\n",
       "      <th>pickup_latitude</th>\n",
       "      <th>pickup_longitude</th>\n",
       "      <th>dropoff_latitude</th>\n",
       "      <th>dropoff_longitude</th>\n",
       "      <th>pickup_events</th>\n",
       "      <th>dropoff_events</th>\n",
       "      <th>total_events</th>\n",
       "    </tr>\n",
       "  </thead>\n",
       "  <tbody>\n",
       "    <tr>\n",
       "      <th>0</th>\n",
       "      <td>1.0</td>\n",
       "      <td>2020-01-22 20:10:13</td>\n",
       "      <td>2020-01-22 20:28:03</td>\n",
       "      <td>1.0</td>\n",
       "      <td>2.20</td>\n",
       "      <td>1.0</td>\n",
       "      <td>N</td>\n",
       "      <td>100</td>\n",
       "      <td>113</td>\n",
       "      <td>1.0</td>\n",
       "      <td>...</td>\n",
       "      <td>2.5</td>\n",
       "      <td>NaN</td>\n",
       "      <td>2020</td>\n",
       "      <td>40.753513</td>\n",
       "      <td>-73.988787</td>\n",
       "      <td>40.732579</td>\n",
       "      <td>-73.994305</td>\n",
       "      <td>0.0</td>\n",
       "      <td>0.0</td>\n",
       "      <td>0.0</td>\n",
       "    </tr>\n",
       "    <tr>\n",
       "      <th>1</th>\n",
       "      <td>2.0</td>\n",
       "      <td>2020-01-18 23:54:57</td>\n",
       "      <td>2020-01-19 00:04:55</td>\n",
       "      <td>6.0</td>\n",
       "      <td>1.96</td>\n",
       "      <td>1.0</td>\n",
       "      <td>N</td>\n",
       "      <td>264</td>\n",
       "      <td>264</td>\n",
       "      <td>1.0</td>\n",
       "      <td>...</td>\n",
       "      <td>2.5</td>\n",
       "      <td>NaN</td>\n",
       "      <td>2020</td>\n",
       "      <td>NaN</td>\n",
       "      <td>NaN</td>\n",
       "      <td>NaN</td>\n",
       "      <td>NaN</td>\n",
       "      <td>0.0</td>\n",
       "      <td>0.0</td>\n",
       "      <td>0.0</td>\n",
       "    </tr>\n",
       "    <tr>\n",
       "      <th>2</th>\n",
       "      <td>1.0</td>\n",
       "      <td>2020-01-04 11:10:51</td>\n",
       "      <td>2020-01-04 11:18:37</td>\n",
       "      <td>3.0</td>\n",
       "      <td>1.30</td>\n",
       "      <td>1.0</td>\n",
       "      <td>N</td>\n",
       "      <td>161</td>\n",
       "      <td>237</td>\n",
       "      <td>2.0</td>\n",
       "      <td>...</td>\n",
       "      <td>2.5</td>\n",
       "      <td>NaN</td>\n",
       "      <td>2020</td>\n",
       "      <td>40.758028</td>\n",
       "      <td>-73.977698</td>\n",
       "      <td>40.768615</td>\n",
       "      <td>-73.965635</td>\n",
       "      <td>0.0</td>\n",
       "      <td>0.0</td>\n",
       "      <td>0.0</td>\n",
       "    </tr>\n",
       "    <tr>\n",
       "      <th>3</th>\n",
       "      <td>2.0</td>\n",
       "      <td>2020-01-23 08:05:22</td>\n",
       "      <td>2020-01-23 08:17:23</td>\n",
       "      <td>5.0</td>\n",
       "      <td>1.73</td>\n",
       "      <td>1.0</td>\n",
       "      <td>N</td>\n",
       "      <td>141</td>\n",
       "      <td>162</td>\n",
       "      <td>1.0</td>\n",
       "      <td>...</td>\n",
       "      <td>2.5</td>\n",
       "      <td>NaN</td>\n",
       "      <td>2020</td>\n",
       "      <td>40.766948</td>\n",
       "      <td>-73.959635</td>\n",
       "      <td>40.756688</td>\n",
       "      <td>-73.972356</td>\n",
       "      <td>0.0</td>\n",
       "      <td>0.0</td>\n",
       "      <td>0.0</td>\n",
       "    </tr>\n",
       "    <tr>\n",
       "      <th>4</th>\n",
       "      <td>2.0</td>\n",
       "      <td>2020-01-16 17:09:03</td>\n",
       "      <td>2020-01-16 17:12:50</td>\n",
       "      <td>1.0</td>\n",
       "      <td>0.93</td>\n",
       "      <td>1.0</td>\n",
       "      <td>N</td>\n",
       "      <td>263</td>\n",
       "      <td>236</td>\n",
       "      <td>1.0</td>\n",
       "      <td>...</td>\n",
       "      <td>2.5</td>\n",
       "      <td>NaN</td>\n",
       "      <td>2020</td>\n",
       "      <td>40.778766</td>\n",
       "      <td>-73.951010</td>\n",
       "      <td>40.780436</td>\n",
       "      <td>-73.957012</td>\n",
       "      <td>0.0</td>\n",
       "      <td>0.0</td>\n",
       "      <td>0.0</td>\n",
       "    </tr>\n",
       "    <tr>\n",
       "      <th>5</th>\n",
       "      <td>2.0</td>\n",
       "      <td>2020-01-06 17:32:51</td>\n",
       "      <td>2020-01-06 17:42:57</td>\n",
       "      <td>1.0</td>\n",
       "      <td>1.30</td>\n",
       "      <td>1.0</td>\n",
       "      <td>N</td>\n",
       "      <td>79</td>\n",
       "      <td>232</td>\n",
       "      <td>1.0</td>\n",
       "      <td>...</td>\n",
       "      <td>2.5</td>\n",
       "      <td>NaN</td>\n",
       "      <td>2020</td>\n",
       "      <td>40.727620</td>\n",
       "      <td>-73.985937</td>\n",
       "      <td>40.714733</td>\n",
       "      <td>-73.983025</td>\n",
       "      <td>0.0</td>\n",
       "      <td>0.0</td>\n",
       "      <td>0.0</td>\n",
       "    </tr>\n",
       "    <tr>\n",
       "      <th>6</th>\n",
       "      <td>2.0</td>\n",
       "      <td>2020-01-21 22:49:19</td>\n",
       "      <td>2020-01-21 22:59:49</td>\n",
       "      <td>1.0</td>\n",
       "      <td>3.44</td>\n",
       "      <td>1.0</td>\n",
       "      <td>N</td>\n",
       "      <td>48</td>\n",
       "      <td>238</td>\n",
       "      <td>1.0</td>\n",
       "      <td>...</td>\n",
       "      <td>2.5</td>\n",
       "      <td>NaN</td>\n",
       "      <td>2020</td>\n",
       "      <td>40.762253</td>\n",
       "      <td>-73.989845</td>\n",
       "      <td>40.791705</td>\n",
       "      <td>-73.973049</td>\n",
       "      <td>0.0</td>\n",
       "      <td>0.0</td>\n",
       "      <td>0.0</td>\n",
       "    </tr>\n",
       "    <tr>\n",
       "      <th>7</th>\n",
       "      <td>1.0</td>\n",
       "      <td>2020-01-14 14:43:16</td>\n",
       "      <td>2020-01-14 14:57:14</td>\n",
       "      <td>1.0</td>\n",
       "      <td>1.30</td>\n",
       "      <td>1.0</td>\n",
       "      <td>N</td>\n",
       "      <td>170</td>\n",
       "      <td>90</td>\n",
       "      <td>1.0</td>\n",
       "      <td>...</td>\n",
       "      <td>2.5</td>\n",
       "      <td>NaN</td>\n",
       "      <td>2020</td>\n",
       "      <td>40.747746</td>\n",
       "      <td>-73.978492</td>\n",
       "      <td>40.742279</td>\n",
       "      <td>-73.996971</td>\n",
       "      <td>0.0</td>\n",
       "      <td>0.0</td>\n",
       "      <td>0.0</td>\n",
       "    </tr>\n",
       "    <tr>\n",
       "      <th>8</th>\n",
       "      <td>2.0</td>\n",
       "      <td>2020-01-30 07:06:00</td>\n",
       "      <td>2020-01-30 07:44:00</td>\n",
       "      <td>NaN</td>\n",
       "      <td>10.26</td>\n",
       "      <td>NaN</td>\n",
       "      <td>&lt;NA&gt;</td>\n",
       "      <td>69</td>\n",
       "      <td>234</td>\n",
       "      <td>0.0</td>\n",
       "      <td>...</td>\n",
       "      <td>NaN</td>\n",
       "      <td>NaN</td>\n",
       "      <td>2020</td>\n",
       "      <td>40.831417</td>\n",
       "      <td>-73.915029</td>\n",
       "      <td>40.740337</td>\n",
       "      <td>-73.990458</td>\n",
       "      <td>0.0</td>\n",
       "      <td>0.0</td>\n",
       "      <td>0.0</td>\n",
       "    </tr>\n",
       "    <tr>\n",
       "      <th>9</th>\n",
       "      <td>1.0</td>\n",
       "      <td>2020-01-16 08:07:20</td>\n",
       "      <td>2020-01-16 08:33:05</td>\n",
       "      <td>1.0</td>\n",
       "      <td>3.20</td>\n",
       "      <td>1.0</td>\n",
       "      <td>N</td>\n",
       "      <td>238</td>\n",
       "      <td>162</td>\n",
       "      <td>1.0</td>\n",
       "      <td>...</td>\n",
       "      <td>2.5</td>\n",
       "      <td>NaN</td>\n",
       "      <td>2020</td>\n",
       "      <td>40.791705</td>\n",
       "      <td>-73.973049</td>\n",
       "      <td>40.756688</td>\n",
       "      <td>-73.972356</td>\n",
       "      <td>0.0</td>\n",
       "      <td>0.0</td>\n",
       "      <td>0.0</td>\n",
       "    </tr>\n",
       "  </tbody>\n",
       "</table>\n",
       "<p>10 rows × 27 columns</p>\n",
       "</div>"
      ],
      "text/plain": [
       "   vendorid tpep_pickup_datetime tpep_dropoff_datetime  passenger_count  \\\n",
       "0       1.0  2020-01-22 20:10:13   2020-01-22 20:28:03              1.0   \n",
       "1       2.0  2020-01-18 23:54:57   2020-01-19 00:04:55              6.0   \n",
       "2       1.0  2020-01-04 11:10:51   2020-01-04 11:18:37              3.0   \n",
       "3       2.0  2020-01-23 08:05:22   2020-01-23 08:17:23              5.0   \n",
       "4       2.0  2020-01-16 17:09:03   2020-01-16 17:12:50              1.0   \n",
       "5       2.0  2020-01-06 17:32:51   2020-01-06 17:42:57              1.0   \n",
       "6       2.0  2020-01-21 22:49:19   2020-01-21 22:59:49              1.0   \n",
       "7       1.0  2020-01-14 14:43:16   2020-01-14 14:57:14              1.0   \n",
       "8       2.0  2020-01-30 07:06:00   2020-01-30 07:44:00              NaN   \n",
       "9       1.0  2020-01-16 08:07:20   2020-01-16 08:33:05              1.0   \n",
       "\n",
       "   trip_distance  ratecodeid store_and_fwd_flag  pulocationid  dolocationid  \\\n",
       "0           2.20         1.0                  N           100           113   \n",
       "1           1.96         1.0                  N           264           264   \n",
       "2           1.30         1.0                  N           161           237   \n",
       "3           1.73         1.0                  N           141           162   \n",
       "4           0.93         1.0                  N           263           236   \n",
       "5           1.30         1.0                  N            79           232   \n",
       "6           3.44         1.0                  N            48           238   \n",
       "7           1.30         1.0                  N           170            90   \n",
       "8          10.26         NaN               <NA>            69           234   \n",
       "9           3.20         1.0                  N           238           162   \n",
       "\n",
       "   payment_type  ...  congestion_surcharge  airport_fee  year  \\\n",
       "0           1.0  ...                   2.5          NaN  2020   \n",
       "1           1.0  ...                   2.5          NaN  2020   \n",
       "2           2.0  ...                   2.5          NaN  2020   \n",
       "3           1.0  ...                   2.5          NaN  2020   \n",
       "4           1.0  ...                   2.5          NaN  2020   \n",
       "5           1.0  ...                   2.5          NaN  2020   \n",
       "6           1.0  ...                   2.5          NaN  2020   \n",
       "7           1.0  ...                   2.5          NaN  2020   \n",
       "8           0.0  ...                   NaN          NaN  2020   \n",
       "9           1.0  ...                   2.5          NaN  2020   \n",
       "\n",
       "   pickup_latitude  pickup_longitude  dropoff_latitude  dropoff_longitude  \\\n",
       "0        40.753513        -73.988787         40.732579         -73.994305   \n",
       "1              NaN               NaN               NaN                NaN   \n",
       "2        40.758028        -73.977698         40.768615         -73.965635   \n",
       "3        40.766948        -73.959635         40.756688         -73.972356   \n",
       "4        40.778766        -73.951010         40.780436         -73.957012   \n",
       "5        40.727620        -73.985937         40.714733         -73.983025   \n",
       "6        40.762253        -73.989845         40.791705         -73.973049   \n",
       "7        40.747746        -73.978492         40.742279         -73.996971   \n",
       "8        40.831417        -73.915029         40.740337         -73.990458   \n",
       "9        40.791705        -73.973049         40.756688         -73.972356   \n",
       "\n",
       "   pickup_events  dropoff_events  total_events  \n",
       "0            0.0             0.0           0.0  \n",
       "1            0.0             0.0           0.0  \n",
       "2            0.0             0.0           0.0  \n",
       "3            0.0             0.0           0.0  \n",
       "4            0.0             0.0           0.0  \n",
       "5            0.0             0.0           0.0  \n",
       "6            0.0             0.0           0.0  \n",
       "7            0.0             0.0           0.0  \n",
       "8            0.0             0.0           0.0  \n",
       "9            0.0             0.0           0.0  \n",
       "\n",
       "[10 rows x 27 columns]"
      ]
     },
     "execution_count": 21,
     "metadata": {},
     "output_type": "execute_result"
    }
   ],
   "source": [
    "taxi_enriched.head(10)"
   ]
  },
  {
   "cell_type": "code",
   "execution_count": null,
   "id": "84489939",
   "metadata": {},
   "outputs": [],
   "source": [
    "taxi_enriched.to_parquet(f\"{OUTPUT_DIR}/taxi_enriched_with_events.parquet\",\n",
    "                         write_index=False)"
   ]
  },
  {
   "cell_type": "code",
   "execution_count": null,
   "id": "0a42f058",
   "metadata": {},
   "outputs": [],
   "source": []
  }
 ],
 "metadata": {
  "kernelspec": {
   "display_name": "ids_project2",
   "language": "python",
   "name": "python3"
  },
  "language_info": {
   "codemirror_mode": {
    "name": "ipython",
    "version": 3
   },
   "file_extension": ".py",
   "mimetype": "text/x-python",
   "name": "python",
   "nbconvert_exporter": "python",
   "pygments_lexer": "ipython3",
   "version": "3.11.5"
  }
 },
 "nbformat": 4,
 "nbformat_minor": 5
}
