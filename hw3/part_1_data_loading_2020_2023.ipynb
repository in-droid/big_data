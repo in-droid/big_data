{
 "cells": [
  {
   "cell_type": "code",
   "execution_count": 1,
   "id": "34e2b3c7",
   "metadata": {},
   "outputs": [
    {
     "name": "stdout",
     "output_type": "stream",
     "text": [
      "🔄 Reading: /d/hpc/projects/FRI/bigdata/data/Taxi/yellow_tripdata_2020-01.parquet\n",
      "🔄 Reading: /d/hpc/projects/FRI/bigdata/data/Taxi/yellow_tripdata_2020-02.parquet\n",
      "🔄 Reading: /d/hpc/projects/FRI/bigdata/data/Taxi/yellow_tripdata_2021-01.parquet\n",
      "🔄 Reading: /d/hpc/projects/FRI/bigdata/data/Taxi/yellow_tripdata_2021-02.parquet\n",
      "🔄 Reading: /d/hpc/projects/FRI/bigdata/data/Taxi/yellow_tripdata_2022-01.parquet\n",
      "🔄 Reading: /d/hpc/projects/FRI/bigdata/data/Taxi/yellow_tripdata_2022-02.parquet\n",
      "🔄 Reading: /d/hpc/projects/FRI/bigdata/data/Taxi/yellow_tripdata_2023-01.parquet\n",
      "🔄 Reading: /d/hpc/projects/FRI/bigdata/data/Taxi/yellow_tripdata_2023-02.parquet\n",
      "🔄 Reading: /d/hpc/projects/FRI/bigdata/data/Taxi/yellow_tripdata_2024-01.parquet\n",
      "🔄 Reading: /d/hpc/projects/FRI/bigdata/data/Taxi/yellow_tripdata_2024-02.parquet\n",
      "✅ All files loaded and aligned.\n"
     ]
    }
   ],
   "source": [
    "import dask.dataframe as dd\n",
    "import numpy as np\n",
    "import os\n",
    "\n",
    "# Define source files: Jan+Feb for 2020–2024 (subset)\n",
    "subset_files = [\n",
    "    '/d/hpc/projects/FRI/bigdata/data/Taxi/yellow_tripdata_2020-01.parquet',\n",
    "    '/d/hpc/projects/FRI/bigdata/data/Taxi/yellow_tripdata_2020-02.parquet',\n",
    "    '/d/hpc/projects/FRI/bigdata/data/Taxi/yellow_tripdata_2021-01.parquet',\n",
    "    '/d/hpc/projects/FRI/bigdata/data/Taxi/yellow_tripdata_2021-02.parquet',\n",
    "    '/d/hpc/projects/FRI/bigdata/data/Taxi/yellow_tripdata_2022-01.parquet',\n",
    "    '/d/hpc/projects/FRI/bigdata/data/Taxi/yellow_tripdata_2022-02.parquet',\n",
    "    '/d/hpc/projects/FRI/bigdata/data/Taxi/yellow_tripdata_2023-01.parquet',\n",
    "    '/d/hpc/projects/FRI/bigdata/data/Taxi/yellow_tripdata_2023-02.parquet',\n",
    "    '/d/hpc/projects/FRI/bigdata/data/Taxi/yellow_tripdata_2024-01.parquet',\n",
    "    '/d/hpc/projects/FRI/bigdata/data/Taxi/yellow_tripdata_2024-02.parquet',\n",
    "]\n",
    "\n",
    "# Final list of expected columns (all lowercase)\n",
    "EXPECTED_COLUMNS = [\n",
    "    'vendorid', 'tpep_pickup_datetime', 'tpep_dropoff_datetime',\n",
    "    'passenger_count', 'trip_distance', 'ratecodeid', 'store_and_fwd_flag',\n",
    "    'pulocationid', 'dolocationid', 'payment_type', 'fare_amount', 'extra',\n",
    "    'mta_tax', 'tip_amount', 'tolls_amount', 'improvement_surcharge',\n",
    "    'total_amount', 'congestion_surcharge', 'airport_fee'\n",
    "]\n",
    "\n",
    "# Load and normalize each file\n",
    "dfs = []\n",
    "\n",
    "for file in subset_files:\n",
    "    print(f\"🔄 Reading: {file}\")\n",
    "    df = dd.read_parquet(file, engine='pyarrow', gather_statistics=False)\n",
    "\n",
    "    # Normalize column names to lowercase\n",
    "    df.columns = [col.lower() for col in df.columns]\n",
    "\n",
    "    # Fill in missing columns\n",
    "    for col in EXPECTED_COLUMNS:\n",
    "        if col not in df.columns:\n",
    "            df[col] = np.nan\n",
    "\n",
    "    # Reorder\n",
    "    df = df[EXPECTED_COLUMNS]\n",
    "\n",
    "    dfs.append(df)\n",
    "\n",
    "#  Concatenate everything into one Dask DataFrame\n",
    "ddf = dd.concat(dfs)\n",
    "print(\"✅ All files loaded and aligned.\")"
   ]
  },
  {
   "cell_type": "code",
   "execution_count": 2,
   "id": "c1ee1dad",
   "metadata": {},
   "outputs": [],
   "source": [
    "#  Add year column\n",
    "OUTPUT_DIR = '/d/hpc/projects/FRI/bigdata/students/in7357/out'\n",
    "ddf['year'] = dd.to_datetime(ddf['tpep_pickup_datetime']).dt.year\n",
    "# Keep only rows with valid years\n",
    "ddf = ddf[(ddf['year'] >= 2020) & (ddf['year'] <= 2024)]\n",
    "\n",
    "\n",
    "#  Output directories\n",
    "os.makedirs(os.path.join(OUTPUT_DIR, 'csv_2020'), exist_ok=True)\n",
    "os.makedirs(os.path.join(OUTPUT_DIR, 'hdf_2020'), exist_ok=True)\n",
    "os.makedirs(os.path.join(OUTPUT_DIR, 'csv_5yrs'), exist_ok=True)\n",
    "os.makedirs(os.path.join(OUTPUT_DIR, \"optimized_parquet\"), exist_ok=True)"
   ]
  },
  {
   "cell_type": "code",
   "execution_count": 3,
   "id": "d1fb588f",
   "metadata": {},
   "outputs": [
    {
     "name": "stdout",
     "output_type": "stream",
     "text": [
      " Saved 2020 to CSV.\n"
     ]
    }
   ],
   "source": [
    "# STEP 1: Save 2020 subset to CSV\n",
    "ddf_2020 = ddf[ddf['year'] == 2020]\n",
    "\n",
    "ddf_2020.to_csv(f\"{os.path.join(OUTPUT_DIR, 'csv_2020')}/yellow_2020_*.csv\", index=False)\n",
    "print(\" Saved 2020 to CSV.\")"
   ]
  },
  {
   "cell_type": "code",
   "execution_count": 6,
   "id": "b4399e2d",
   "metadata": {},
   "outputs": [
    {
     "name": "stderr",
     "output_type": "stream",
     "text": [
      "/tmp/ipykernel_3349476/4187790651.py:7: PerformanceWarning: \n",
      "your performance may suffer as PyTables will pickle object types that it cannot\n",
      "map directly to c-types [inferred_type->mixed,key->block4_values] [items->Index(['store_and_fwd_flag', 'airport_fee'], dtype='object')]\n",
      "\n",
      "  df_2020.to_hdf(f\"{os.path.join(OUTPUT_DIR, 'hdf_2020')}/yellow_2020.h5\", key=\"data\", mode=\"w\")\n"
     ]
    },
    {
     "name": "stdout",
     "output_type": "stream",
     "text": [
      " Saved 2020 to HDF5.\n"
     ]
    }
   ],
   "source": [
    "# Save 2020 subset to HDF5 (via Pandas)\n",
    "\n",
    "df_2020 = ddf_2020.compute()\n",
    "for col in df_2020.select_dtypes(include=\"string\").columns:\n",
    "    df_2020[col] = df_2020[col].astype(\"object\")\n",
    "\n",
    "df_2020.to_hdf(f\"{os.path.join(OUTPUT_DIR, 'hdf_2020')}/yellow_2020.h5\", key=\"data\", mode=\"w\")\n",
    "print(\" Saved 2020 to HDF5.\")"
   ]
  },
  {
   "cell_type": "code",
   "execution_count": 7,
   "id": "3bf6d73c",
   "metadata": {},
   "outputs": [
    {
     "name": "stdout",
     "output_type": "stream",
     "text": [
      " Saved 5-year subset to CSV.\n"
     ]
    }
   ],
   "source": [
    "#  STEP 3: Save all 5-year subset to CSV\n",
    "ddf.to_csv(f\"{OUTPUT_DIR}/csv_5yrs/yellow_5yrs_*.csv\", index=False)\n",
    "print(\" Saved 5-year subset to CSV.\")"
   ]
  },
  {
   "cell_type": "code",
   "execution_count": 8,
   "id": "088d933b",
   "metadata": {},
   "outputs": [
    {
     "name": "stdout",
     "output_type": "stream",
     "text": [
      " Saved to optimized Parquet partitioned by year.\n"
     ]
    }
   ],
   "source": [
    "#  STEP 4: Save optimized partitioned Parquet\n",
    "ddf['airport_fee'] = ddf['airport_fee'].astype(str)\n",
    "\n",
    "ddf.to_parquet(\n",
    "    f\"{OUTPUT_DIR}/optimized_parquet\",\n",
    "    engine=\"pyarrow\",\n",
    "    partition_on=[\"year\"],\n",
    "    row_group_size=1000000,\n",
    "    write_index=False\n",
    ")\n",
    "print(\" Saved to optimized Parquet partitioned by year.\")"
   ]
  },
  {
   "cell_type": "code",
   "execution_count": null,
   "id": "1ecab89e",
   "metadata": {},
   "outputs": [],
   "source": []
  }
 ],
 "metadata": {
  "kernelspec": {
   "display_name": "Python (big_data311)",
   "language": "python",
   "name": "big_data311"
  },
  "language_info": {
   "codemirror_mode": {
    "name": "ipython",
    "version": 3
   },
   "file_extension": ".py",
   "mimetype": "text/x-python",
   "name": "python",
   "nbconvert_exporter": "python",
   "pygments_lexer": "ipython3",
   "version": "3.11.11"
  }
 },
 "nbformat": 4,
 "nbformat_minor": 5
}
