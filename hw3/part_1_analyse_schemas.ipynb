{
 "cells": [
  {
   "cell_type": "code",
   "execution_count": 1,
   "metadata": {},
   "outputs": [],
   "source": [
    "import json"
   ]
  },
  {
   "cell_type": "code",
   "execution_count": 14,
   "metadata": {},
   "outputs": [
    {
     "data": {
      "text/plain": [
       "22"
      ]
     },
     "execution_count": 14,
     "metadata": {},
     "output_type": "execute_result"
    }
   ],
   "source": [
    "COLUMN_MAPPING = {\n",
    "    # Vendor ID\n",
    "    \"VendorID\": \"vendorid\",\n",
    "    \"vendor_id\": \"vendorid\",\n",
    "    \"vendorid\": \"vendorid\",\n",
    "    \"vendor_name\": \"vendor_name\",\n",
    "\n",
    "    # Pickup datetime\n",
    "    \"pickup_datetime\": \"tpep_pickup_datetime\",\n",
    "    \"tpep_pickup_datetime\": \"tpep_pickup_datetime\",\n",
    "    \"trip_pickup_datetime\": \"tpep_pickup_datetime\",\n",
    "\n",
    "\n",
    "    # Dropoff datetime\n",
    "    \"dropoff_datetime\": \"tpep_dropoff_datetime\",\n",
    "    \"tpep_dropoff_datetime\": \"tpep_dropoff_datetime\",\n",
    "    \"trip_dropoff_datetime\": \"tpep_dropoff_datetime\",\n",
    "\n",
    "    #Pickup latitude\n",
    "    \"start_lat\": \"pickup_latitude\",\n",
    "    \"pickup_latitude\": \"pickup_latitude\",\n",
    "\n",
    "    #Pickup longitude\n",
    "    \"start_lon\": \"pickup_longitude\",\n",
    "    \"pickup_longitude\": \"pickup_longitude\",\n",
    "\n",
    "    \n",
    "    #Dropoff latitude\n",
    "    \"end_lat\": \"dropoff_latitude\",\n",
    "    \"dropoff_latitude\": \"dropoff_latitude\",\n",
    "\n",
    "    \n",
    "    #Dropoff  longitude\n",
    "    \"end_lon\": \"dropoff_longitude\",\n",
    "    \"dropoff_longitude\": \"dropoff_longitude\",\n",
    "    \n",
    "    #Fare amount\n",
    "    'fare_amt': \"fare_amount\",\n",
    "    \"fare_amount\": \"fare_amount\",\n",
    "\n",
    "\n",
    "    # RateCode ID\n",
    "    \"ratecodeid\": \"ratecodeid\",\n",
    "    \"rate_code\": \"ratecodeid\",\n",
    "\n",
    "    #Store and fwd flag\n",
    "    \"store_and_forward\": \"store_and_fwd_flag\",\n",
    "    \"store_and_fwd_flag\": \"store_and_fwd_flag\",\n",
    "    \n",
    "    #Surcharge (seems to be split in improvement_surcharge and congestion_surcharge)\n",
    "    \"surcharge\": \"surcharge\",\n",
    "\n",
    "    # tip amount\n",
    "    \"tip_amt\": \"tip_amount\",\n",
    "    \"tip_amount\": \"tip_amount\",\n",
    "\n",
    "    # Tools amount\n",
    "    \"tolls_amt\": \"tolls_amount\",\n",
    "    \"tools_amount\": \"tools_amount\",\n",
    "\n",
    "    # Total amount\n",
    "    \"total_amt\": \"total_amount\",\n",
    "    \"total_amount\": \"total_amount\",\n",
    "\n",
    "\n",
    "    # Passenger count\n",
    "    \"passengerCount\": \"passenger_count\",\n",
    "\n",
    "    # Trip distance\n",
    "    \"Trip_Distance\": \"trip_distance\",\n",
    "    \"tripDistance\": \"trip_distance\",\n",
    "\n",
    "    # Payment type\n",
    "    \"payment_type\": \"payment_type\",\n",
    "    \"paymentType\": \"payment_type\",\n",
    "\n",
    "    # Fare amount\n",
    "    \"Fare_amount\": \"fare_amount\",\n",
    "    \"fareAmount\": \"fare_amount\",\n",
    "\n",
    "\n",
    "\n",
    "    # Extra\n",
    "    \"Extra\": \"extra\",\n",
    "\n",
    "    # Tip amount\n",
    "    \"Tip_amount\": \"tip_amount\",\n",
    "    \"tipAmount\": \"tip_amount\",\n",
    "\n",
    "    # Tolls amount\n",
    "    \"tollsAmount\": \"tolls_amount\",\n",
    "\n",
    "    # Total amount\n",
    "    \"Total_amount\": \"total_amount\",\n",
    "    \"totalAmount\": \"total_amount\",\n",
    "\n",
    "    # Improvement surcharge\n",
    "    \"Improvement_surcharge\": \"improvement_surcharge\",\n",
    "\n",
    "    # Congestion surcharge\n",
    "    \"Congestion_surcharge\": \"congestion_surcharge\",\n",
    "\n",
    "    # Store and forward flag\n",
    "    \"store_and_forward_flag\": \"store_and_fwd_flag\",\n",
    "}\n",
    "\n",
    "len(set(COLUMN_MAPPING.values()))"
   ]
  },
  {
   "cell_type": "code",
   "execution_count": 3,
   "metadata": {},
   "outputs": [],
   "source": [
    "# rename columns\n"
   ]
  },
  {
   "cell_type": "code",
   "execution_count": 4,
   "metadata": {},
   "outputs": [],
   "source": [
    "with open('../schemas.json') as f:\n",
    "    schemas = json.load(f)"
   ]
  },
  {
   "cell_type": "code",
   "execution_count": 18,
   "metadata": {},
   "outputs": [
    {
     "data": {
      "text/plain": [
       "{'congestion_surcharge',\n",
       " 'extra',\n",
       " 'improvement_surcharge',\n",
       " 'tools_amount',\n",
       " 'vendorid'}"
      ]
     },
     "execution_count": 18,
     "metadata": {},
     "output_type": "execute_result"
    }
   ],
   "source": [
    "set(COLUMN_MAPPING.values()) - set(schemas['2009']['columns'])"
   ]
  },
  {
   "cell_type": "code",
   "execution_count": 19,
   "metadata": {},
   "outputs": [
    {
     "data": {
      "text/plain": [
       "['vendor_name',\n",
       " 'tpep_pickup_datetime',\n",
       " 'tpep_dropoff_datetime',\n",
       " 'passenger_count',\n",
       " 'trip_distance',\n",
       " 'pickup_longitude',\n",
       " 'pickup_latitude',\n",
       " 'ratecodeid',\n",
       " 'store_and_fwd_flag',\n",
       " 'dropoff_longitude',\n",
       " 'dropoff_latitude',\n",
       " 'payment_type',\n",
       " 'fare_amount',\n",
       " 'surcharge',\n",
       " 'mta_tax',\n",
       " 'tip_amount',\n",
       " 'tolls_amount',\n",
       " 'total_amount']"
      ]
     },
     "execution_count": 19,
     "metadata": {},
     "output_type": "execute_result"
    }
   ],
   "source": [
    "schemas['2009']['columns']"
   ]
  },
  {
   "cell_type": "code",
   "execution_count": 5,
   "metadata": {},
   "outputs": [],
   "source": [
    "for k in schemas:\n",
    "    schemas[k]['columns'] =  [c.lower() for c in schemas[k]['columns']]\n",
    "    schemas[k]['dtypes'] = {k.lower(): v for k,v in schemas[k]['dtypes'].items()}"
   ]
  },
  {
   "cell_type": "code",
   "execution_count": null,
   "metadata": {},
   "outputs": [],
   "source": []
  },
  {
   "cell_type": "code",
   "execution_count": 6,
   "metadata": {},
   "outputs": [],
   "source": [
    "common_columns = set(schemas['2009']['columns'])\n",
    "\n",
    "for year in schemas:\n",
    "    common_columns &= set(schemas[year]['columns'])"
   ]
  },
  {
   "cell_type": "code",
   "execution_count": 7,
   "metadata": {},
   "outputs": [
    {
     "data": {
      "text/plain": [
       "{'mta_tax', 'passenger_count', 'payment_type', 'trip_distance'}"
      ]
     },
     "execution_count": 7,
     "metadata": {},
     "output_type": "execute_result"
    }
   ],
   "source": [
    "common_columns"
   ]
  },
  {
   "cell_type": "code",
   "execution_count": 8,
   "metadata": {},
   "outputs": [],
   "source": [
    "missing_by_year = {}\n",
    "for year in schemas:\n",
    "    missing_by_year[year] = set(schemas[year]['columns']) - common_columns"
   ]
  },
  {
   "cell_type": "code",
   "execution_count": 9,
   "metadata": {},
   "outputs": [
    {
     "data": {
      "text/plain": [
       "{'2009': {'end_lat',\n",
       "  'end_lon',\n",
       "  'fare_amt',\n",
       "  'rate_code',\n",
       "  'start_lat',\n",
       "  'start_lon',\n",
       "  'store_and_forward',\n",
       "  'surcharge',\n",
       "  'tip_amt',\n",
       "  'tolls_amt',\n",
       "  'total_amt',\n",
       "  'trip_dropoff_datetime',\n",
       "  'trip_pickup_datetime',\n",
       "  'vendor_name'},\n",
       " '2010': {'dropoff_datetime',\n",
       "  'dropoff_latitude',\n",
       "  'dropoff_longitude',\n",
       "  'fare_amount',\n",
       "  'pickup_datetime',\n",
       "  'pickup_latitude',\n",
       "  'pickup_longitude',\n",
       "  'rate_code',\n",
       "  'store_and_fwd_flag',\n",
       "  'surcharge',\n",
       "  'tip_amount',\n",
       "  'tolls_amount',\n",
       "  'total_amount',\n",
       "  'vendor_id'},\n",
       " '2011': {'airport_fee',\n",
       "  'congestion_surcharge',\n",
       "  'dolocationid',\n",
       "  'extra',\n",
       "  'fare_amount',\n",
       "  'improvement_surcharge',\n",
       "  'pulocationid',\n",
       "  'ratecodeid',\n",
       "  'store_and_fwd_flag',\n",
       "  'tip_amount',\n",
       "  'tolls_amount',\n",
       "  'total_amount',\n",
       "  'tpep_dropoff_datetime',\n",
       "  'tpep_pickup_datetime',\n",
       "  'vendorid'},\n",
       " '2012': {'airport_fee',\n",
       "  'congestion_surcharge',\n",
       "  'dolocationid',\n",
       "  'extra',\n",
       "  'fare_amount',\n",
       "  'improvement_surcharge',\n",
       "  'pulocationid',\n",
       "  'ratecodeid',\n",
       "  'store_and_fwd_flag',\n",
       "  'tip_amount',\n",
       "  'tolls_amount',\n",
       "  'total_amount',\n",
       "  'tpep_dropoff_datetime',\n",
       "  'tpep_pickup_datetime',\n",
       "  'vendorid'},\n",
       " '2013': {'airport_fee',\n",
       "  'congestion_surcharge',\n",
       "  'dolocationid',\n",
       "  'extra',\n",
       "  'fare_amount',\n",
       "  'improvement_surcharge',\n",
       "  'pulocationid',\n",
       "  'ratecodeid',\n",
       "  'store_and_fwd_flag',\n",
       "  'tip_amount',\n",
       "  'tolls_amount',\n",
       "  'total_amount',\n",
       "  'tpep_dropoff_datetime',\n",
       "  'tpep_pickup_datetime',\n",
       "  'vendorid'},\n",
       " '2014': {'airport_fee',\n",
       "  'congestion_surcharge',\n",
       "  'dolocationid',\n",
       "  'extra',\n",
       "  'fare_amount',\n",
       "  'improvement_surcharge',\n",
       "  'pulocationid',\n",
       "  'ratecodeid',\n",
       "  'store_and_fwd_flag',\n",
       "  'tip_amount',\n",
       "  'tolls_amount',\n",
       "  'total_amount',\n",
       "  'tpep_dropoff_datetime',\n",
       "  'tpep_pickup_datetime',\n",
       "  'vendorid'},\n",
       " '2015': {'airport_fee',\n",
       "  'congestion_surcharge',\n",
       "  'dolocationid',\n",
       "  'extra',\n",
       "  'fare_amount',\n",
       "  'improvement_surcharge',\n",
       "  'pulocationid',\n",
       "  'ratecodeid',\n",
       "  'store_and_fwd_flag',\n",
       "  'tip_amount',\n",
       "  'tolls_amount',\n",
       "  'total_amount',\n",
       "  'tpep_dropoff_datetime',\n",
       "  'tpep_pickup_datetime',\n",
       "  'vendorid'},\n",
       " '2016': {'airport_fee',\n",
       "  'congestion_surcharge',\n",
       "  'dolocationid',\n",
       "  'extra',\n",
       "  'fare_amount',\n",
       "  'improvement_surcharge',\n",
       "  'pulocationid',\n",
       "  'ratecodeid',\n",
       "  'store_and_fwd_flag',\n",
       "  'tip_amount',\n",
       "  'tolls_amount',\n",
       "  'total_amount',\n",
       "  'tpep_dropoff_datetime',\n",
       "  'tpep_pickup_datetime',\n",
       "  'vendorid'},\n",
       " '2017': {'airport_fee',\n",
       "  'congestion_surcharge',\n",
       "  'dolocationid',\n",
       "  'extra',\n",
       "  'fare_amount',\n",
       "  'improvement_surcharge',\n",
       "  'pulocationid',\n",
       "  'ratecodeid',\n",
       "  'store_and_fwd_flag',\n",
       "  'tip_amount',\n",
       "  'tolls_amount',\n",
       "  'total_amount',\n",
       "  'tpep_dropoff_datetime',\n",
       "  'tpep_pickup_datetime',\n",
       "  'vendorid'},\n",
       " '2018': {'airport_fee',\n",
       "  'congestion_surcharge',\n",
       "  'dolocationid',\n",
       "  'extra',\n",
       "  'fare_amount',\n",
       "  'improvement_surcharge',\n",
       "  'pulocationid',\n",
       "  'ratecodeid',\n",
       "  'store_and_fwd_flag',\n",
       "  'tip_amount',\n",
       "  'tolls_amount',\n",
       "  'total_amount',\n",
       "  'tpep_dropoff_datetime',\n",
       "  'tpep_pickup_datetime',\n",
       "  'vendorid'},\n",
       " '2019': {'airport_fee',\n",
       "  'congestion_surcharge',\n",
       "  'dolocationid',\n",
       "  'extra',\n",
       "  'fare_amount',\n",
       "  'improvement_surcharge',\n",
       "  'pulocationid',\n",
       "  'ratecodeid',\n",
       "  'store_and_fwd_flag',\n",
       "  'tip_amount',\n",
       "  'tolls_amount',\n",
       "  'total_amount',\n",
       "  'tpep_dropoff_datetime',\n",
       "  'tpep_pickup_datetime',\n",
       "  'vendorid'},\n",
       " '2020': {'airport_fee',\n",
       "  'congestion_surcharge',\n",
       "  'dolocationid',\n",
       "  'extra',\n",
       "  'fare_amount',\n",
       "  'improvement_surcharge',\n",
       "  'pulocationid',\n",
       "  'ratecodeid',\n",
       "  'store_and_fwd_flag',\n",
       "  'tip_amount',\n",
       "  'tolls_amount',\n",
       "  'total_amount',\n",
       "  'tpep_dropoff_datetime',\n",
       "  'tpep_pickup_datetime',\n",
       "  'vendorid'},\n",
       " '2021': {'airport_fee',\n",
       "  'congestion_surcharge',\n",
       "  'dolocationid',\n",
       "  'extra',\n",
       "  'fare_amount',\n",
       "  'improvement_surcharge',\n",
       "  'pulocationid',\n",
       "  'ratecodeid',\n",
       "  'store_and_fwd_flag',\n",
       "  'tip_amount',\n",
       "  'tolls_amount',\n",
       "  'total_amount',\n",
       "  'tpep_dropoff_datetime',\n",
       "  'tpep_pickup_datetime',\n",
       "  'vendorid'},\n",
       " '2022': {'airport_fee',\n",
       "  'congestion_surcharge',\n",
       "  'dolocationid',\n",
       "  'extra',\n",
       "  'fare_amount',\n",
       "  'improvement_surcharge',\n",
       "  'pulocationid',\n",
       "  'ratecodeid',\n",
       "  'store_and_fwd_flag',\n",
       "  'tip_amount',\n",
       "  'tolls_amount',\n",
       "  'total_amount',\n",
       "  'tpep_dropoff_datetime',\n",
       "  'tpep_pickup_datetime',\n",
       "  'vendorid'},\n",
       " '2023': {'airport_fee',\n",
       "  'congestion_surcharge',\n",
       "  'dolocationid',\n",
       "  'extra',\n",
       "  'fare_amount',\n",
       "  'improvement_surcharge',\n",
       "  'pulocationid',\n",
       "  'ratecodeid',\n",
       "  'store_and_fwd_flag',\n",
       "  'tip_amount',\n",
       "  'tolls_amount',\n",
       "  'total_amount',\n",
       "  'tpep_dropoff_datetime',\n",
       "  'tpep_pickup_datetime',\n",
       "  'vendorid'},\n",
       " '2024': {'airport_fee',\n",
       "  'congestion_surcharge',\n",
       "  'dolocationid',\n",
       "  'extra',\n",
       "  'fare_amount',\n",
       "  'improvement_surcharge',\n",
       "  'pulocationid',\n",
       "  'ratecodeid',\n",
       "  'store_and_fwd_flag',\n",
       "  'tip_amount',\n",
       "  'tolls_amount',\n",
       "  'total_amount',\n",
       "  'tpep_dropoff_datetime',\n",
       "  'tpep_pickup_datetime',\n",
       "  'vendorid'}}"
      ]
     },
     "execution_count": 9,
     "metadata": {},
     "output_type": "execute_result"
    }
   ],
   "source": [
    "missing_by_year"
   ]
  },
  {
   "cell_type": "code",
   "execution_count": 10,
   "metadata": {},
   "outputs": [],
   "source": [
    "for k in schemas:\n",
    "    schemas[k]['columns'] =  [COLUMN_MAPPING[c] if c in COLUMN_MAPPING else c \n",
    "                              for c in schemas[k]['columns']\n",
    "                              ]\n",
    "    schemas[k]['dtypes'] = {COLUMN_MAPPING[k] if k in COLUMN_MAPPING else k: v \n",
    "                            for k,v in schemas[k]['dtypes'].items()}"
   ]
  },
  {
   "cell_type": "code",
   "execution_count": 11,
   "metadata": {},
   "outputs": [],
   "source": [
    "common_columns = set(schemas['2009']['columns'])\n",
    "\n",
    "for year in schemas:\n",
    "    common_columns &= set(schemas[year]['columns'])"
   ]
  },
  {
   "cell_type": "code",
   "execution_count": 66,
   "metadata": {},
   "outputs": [
    {
     "data": {
      "text/plain": [
       "{'fare_amount',\n",
       " 'mta_tax',\n",
       " 'passenger_count',\n",
       " 'payment_type',\n",
       " 'ratecodeid',\n",
       " 'store_and_fwd_flag',\n",
       " 'tip_amount',\n",
       " 'tolls_amount',\n",
       " 'total_amount',\n",
       " 'tpep_dropoff_datetime',\n",
       " 'tpep_pickup_datetime',\n",
       " 'trip_distance'}"
      ]
     },
     "execution_count": 66,
     "metadata": {},
     "output_type": "execute_result"
    }
   ],
   "source": [
    "common_columns"
   ]
  },
  {
   "cell_type": "code",
   "execution_count": 67,
   "metadata": {},
   "outputs": [],
   "source": [
    "missing_by_year = {}\n",
    "for year in schemas:\n",
    "    missing_by_year[year] = set(schemas[year]['columns']) - common_columns"
   ]
  },
  {
   "cell_type": "code",
   "execution_count": 68,
   "metadata": {},
   "outputs": [],
   "source": [
    "common_columns = set(schemas['2011']['columns'])\n",
    "\n",
    "for year in schemas:\n",
    "    if int(year) >= 2011:\n",
    "        common_columns &= set(schemas[year]['columns'])"
   ]
  },
  {
   "cell_type": "code",
   "execution_count": 69,
   "metadata": {},
   "outputs": [
    {
     "data": {
      "text/plain": [
       "19"
      ]
     },
     "execution_count": 69,
     "metadata": {},
     "output_type": "execute_result"
    }
   ],
   "source": [
    "len(common_columns)"
   ]
  },
  {
   "cell_type": "code",
   "execution_count": 70,
   "metadata": {},
   "outputs": [
    {
     "data": {
      "text/plain": [
       "{'airport_fee',\n",
       " 'congestion_surcharge',\n",
       " 'dolocationid',\n",
       " 'extra',\n",
       " 'fare_amount',\n",
       " 'improvement_surcharge',\n",
       " 'mta_tax',\n",
       " 'passenger_count',\n",
       " 'payment_type',\n",
       " 'pulocationid',\n",
       " 'ratecodeid',\n",
       " 'store_and_fwd_flag',\n",
       " 'tip_amount',\n",
       " 'tolls_amount',\n",
       " 'total_amount',\n",
       " 'tpep_dropoff_datetime',\n",
       " 'tpep_pickup_datetime',\n",
       " 'trip_distance',\n",
       " 'vendorid'}"
      ]
     },
     "execution_count": 70,
     "metadata": {},
     "output_type": "execute_result"
    }
   ],
   "source": [
    "common_columns"
   ]
  },
  {
   "cell_type": "code",
   "execution_count": 74,
   "metadata": {},
   "outputs": [
    {
     "data": {
      "text/plain": [
       "{'airport_fee',\n",
       " 'congestion_surcharge',\n",
       " 'dolocationid',\n",
       " 'dropoff_latitude',\n",
       " 'dropoff_longitude',\n",
       " 'extra',\n",
       " 'improvement_surcharge',\n",
       " 'pickup_latitude',\n",
       " 'pickup_longitude',\n",
       " 'pulocationid',\n",
       " 'surcharge'}"
      ]
     },
     "execution_count": 74,
     "metadata": {},
     "output_type": "execute_result"
    }
   ],
   "source": [
    "set(schemas['2010']['columns']) ^ set(schemas['2015']['columns'])"
   ]
  },
  {
   "cell_type": "code",
   "execution_count": 48,
   "metadata": {},
   "outputs": [
    {
     "data": {
      "text/plain": [
       "{'2009': {'dropoff_latitude',\n",
       "  'dropoff_longitude',\n",
       "  'pickup_latitude',\n",
       "  'pickup_longitude',\n",
       "  'surcharge'},\n",
       " '2010': {'dropoff_latitude',\n",
       "  'dropoff_longitude',\n",
       "  'pickup_latitude',\n",
       "  'pickup_longitude',\n",
       "  'surcharge'},\n",
       " '2011': {'airport_fee',\n",
       "  'congestion_surcharge',\n",
       "  'dolocationid',\n",
       "  'extra',\n",
       "  'improvement_surcharge',\n",
       "  'pulocationid'},\n",
       " '2012': {'airport_fee',\n",
       "  'congestion_surcharge',\n",
       "  'dolocationid',\n",
       "  'extra',\n",
       "  'improvement_surcharge',\n",
       "  'pulocationid'},\n",
       " '2013': {'airport_fee',\n",
       "  'congestion_surcharge',\n",
       "  'dolocationid',\n",
       "  'extra',\n",
       "  'improvement_surcharge',\n",
       "  'pulocationid'},\n",
       " '2014': {'airport_fee',\n",
       "  'congestion_surcharge',\n",
       "  'dolocationid',\n",
       "  'extra',\n",
       "  'improvement_surcharge',\n",
       "  'pulocationid'},\n",
       " '2015': {'airport_fee',\n",
       "  'congestion_surcharge',\n",
       "  'dolocationid',\n",
       "  'extra',\n",
       "  'improvement_surcharge',\n",
       "  'pulocationid'},\n",
       " '2016': {'airport_fee',\n",
       "  'congestion_surcharge',\n",
       "  'dolocationid',\n",
       "  'extra',\n",
       "  'improvement_surcharge',\n",
       "  'pulocationid'},\n",
       " '2017': {'airport_fee',\n",
       "  'congestion_surcharge',\n",
       "  'dolocationid',\n",
       "  'extra',\n",
       "  'improvement_surcharge',\n",
       "  'pulocationid'},\n",
       " '2018': {'airport_fee',\n",
       "  'congestion_surcharge',\n",
       "  'dolocationid',\n",
       "  'extra',\n",
       "  'improvement_surcharge',\n",
       "  'pulocationid'},\n",
       " '2019': {'airport_fee',\n",
       "  'congestion_surcharge',\n",
       "  'dolocationid',\n",
       "  'extra',\n",
       "  'improvement_surcharge',\n",
       "  'pulocationid'},\n",
       " '2020': {'airport_fee',\n",
       "  'congestion_surcharge',\n",
       "  'dolocationid',\n",
       "  'extra',\n",
       "  'improvement_surcharge',\n",
       "  'pulocationid'},\n",
       " '2021': {'airport_fee',\n",
       "  'congestion_surcharge',\n",
       "  'dolocationid',\n",
       "  'extra',\n",
       "  'improvement_surcharge',\n",
       "  'pulocationid'},\n",
       " '2022': {'airport_fee',\n",
       "  'congestion_surcharge',\n",
       "  'dolocationid',\n",
       "  'extra',\n",
       "  'improvement_surcharge',\n",
       "  'pulocationid'},\n",
       " '2023': {'airport_fee',\n",
       "  'congestion_surcharge',\n",
       "  'dolocationid',\n",
       "  'extra',\n",
       "  'improvement_surcharge',\n",
       "  'pulocationid'},\n",
       " '2024': {'airport_fee',\n",
       "  'congestion_surcharge',\n",
       "  'dolocationid',\n",
       "  'extra',\n",
       "  'improvement_surcharge',\n",
       "  'pulocationid'}}"
      ]
     },
     "execution_count": 48,
     "metadata": {},
     "output_type": "execute_result"
    }
   ],
   "source": [
    "missing_by_year"
   ]
  },
  {
   "cell_type": "code",
   "execution_count": 53,
   "metadata": {},
   "outputs": [
    {
     "data": {
      "text/plain": [
       "defaultdict(set,\n",
       "            {'vendorid': {'int32', 'int64', 'string'},\n",
       "             'tpep_pickup_datetime': {'datetime64[us]', 'string'},\n",
       "             'tpep_dropoff_datetime': {'datetime64[us]', 'string'},\n",
       "             'passenger_count': {'float64', 'int64'},\n",
       "             'trip_distance': {'float64'},\n",
       "             'pickup_longitude': {'float64'},\n",
       "             'pickup_latitude': {'float64'},\n",
       "             'ratecodeid': {'float64', 'int64', 'string'},\n",
       "             'store_and_fwd_flag': {'float64', 'string'},\n",
       "             'dropoff_longitude': {'float64'},\n",
       "             'dropoff_latitude': {'float64'},\n",
       "             'payment_type': {'int64', 'string'},\n",
       "             'fare_amount': {'float64'},\n",
       "             'surcharge': {'float64'},\n",
       "             'mta_tax': {'float64'},\n",
       "             'tip_amount': {'float64'},\n",
       "             'tolls_amount': {'float64'},\n",
       "             'total_amount': {'float64'},\n",
       "             'pulocationid': {'int32', 'int64'},\n",
       "             'dolocationid': {'int32', 'int64'},\n",
       "             'extra': {'float64'},\n",
       "             'improvement_surcharge': {'float64'},\n",
       "             'congestion_surcharge': {'float64', 'object'},\n",
       "             'airport_fee': {'float64', 'object'}})"
      ]
     },
     "execution_count": 53,
     "metadata": {},
     "output_type": "execute_result"
    }
   ],
   "source": [
    "from collections import defaultdict\n",
    "dtype_by_column = defaultdict(set)\n",
    "\n",
    "for k in schemas:\n",
    "    for column, dtype in schemas[k]['dtypes'].items():\n",
    "        dtype_by_column[column].add(dtype)\n",
    "\n",
    "dtype_by_column\n"
   ]
  },
  {
   "cell_type": "code",
   "execution_count": 76,
   "metadata": {},
   "outputs": [
    {
     "data": {
      "text/plain": [
       "(26, 24)"
      ]
     },
     "execution_count": 76,
     "metadata": {},
     "output_type": "execute_result"
    }
   ],
   "source": [
    "DTYPES_ALL = {\n",
    "    'airport_fee': 'float64',\n",
    "    'congestion_surcharge': 'float64',\n",
    "    'improvement_surcharge': 'float64',\n",
    "    'extra': 'float64',\n",
    "    'dollocationid': 'int64',\n",
    "    'pulocationid': 'int64',\n",
    "    'total_amount': 'float64',\n",
    "    'tolls_amount': 'float64',\n",
    "    'tip_amount': 'float64',\n",
    "    'mta_tax': 'float64',\n",
    "    'surcharge': 'float64',\n",
    "    'fare_amount': 'float64',\n",
    "    # is 2009 it is string! \n",
    "    'payment_type': 'int64',\n",
    "    'payment_type_string': 'category',\n",
    "    'dropoff_latitude': 'float64',\n",
    "    'dropoff_longitude': 'float64',\n",
    "    'store_and_fwd_flag': 'category',\n",
    "    'pickup_latitude': 'float64',\n",
    "    'pickup_longitude': 'float64',\n",
    "    'trip_distance': 'float64',\n",
    "    'passenger_count': 'int64',\n",
    "    'tpep_dropoff_datetime': 'datetime64[ns]',\n",
    "    'tpep_pickup_datetime': 'datetime64[ns]',\n",
    "    'vendorid': 'int64',\n",
    "    'vendor_name': 'category',\n",
    "    'ratecodeid': 'int64',\n",
    "\n",
    "}\n",
    "len(dtypes_all), len(dtype_by_column)"
   ]
  },
  {
   "cell_type": "code",
   "execution_count": null,
   "metadata": {},
   "outputs": [],
   "source": [
    "import os \n",
    "import dask.dataframe as dd\n",
    "from dask import delayed\n",
    "import pandas as pd\n",
    "import numpy as np\n",
    "\n",
    "PAYMENT_TYPES_STR_TO_INT = {\n",
    "    'flex': 0,\n",
    "    'flex fare trip': 0,\n",
    "    'fare': 0,\n",
    "    'credit': 1,\n",
    "    'credit card': 1,\n",
    "    'cash': 2,\n",
    "    'no charge': 3,\n",
    "    'dispute': 4,\n",
    "    'unknown': 5,\n",
    "    'voided trip': 6,\n",
    "    'voided': 6,\n",
    "}\n",
    "\n",
    "ALL_COLUMNS = set(COLUMN_MAPPING.values())\n",
    "\n",
    "\n",
    "def standardize_columns(df, year):\n",
    "    if year in [2009, 2010]:\n",
    "        df['store_and_fwd_flag'] = df['store_and_fwd_flag'].replace({1: 'YES', 0: 'NO'})\n",
    "  \n",
    "    df = df.rename(columns=\n",
    "                   {col: COLUMN_MAPPING.get(col, col) for col in df.columns})\n",
    "    if year in [2009, 2010]:\n",
    "        df['payment_type_string'] = df['payment_type'].str.lower.astype('category')\n",
    "        df['payment_type'] = df['payment_type'].replace(PAYMENT_TYPES_STR_TO_INT)\n",
    "    \n",
    "    df['payment_type'] = df['payment_type'].astype('int64')\n",
    "\n",
    "    \n",
    "    # Ensure the DataFrame has the correct dtypes\n",
    "    \n",
    "    for col in ALL_COLUMNS:\n",
    "        if col not in df.columns:\n",
    "            df[col] = None\n",
    "\n",
    "        \n",
    "    \n",
    "    for col in df.columns:\n",
    "        if col in DTYPES_ALL:\n",
    "            df[col] = df[col].astype(DTYPES_ALL[col])\n",
    "    \n",
    "\n",
    "    if 'year' not in df.columns and 'tpep_pickup_datetime' in df.columns:\n",
    "        df['year'] = df['tpep_pickup_datetime'].dt.year\n",
    "    \n",
    "\n",
    "\n",
    "    return df\n",
    "\n",
    "@delayed\n",
    "def get_year_from_file(file):\n",
    "    filename = os.path.basename(file)\n",
    "    try:\n",
    "        year = filename.split('_')[2].split('-')[0]\n",
    "        return (year, file)\n",
    "    except:\n",
    "        return None\n",
    "\n",
    "\n",
    "def combine_multiple_years(start_y, end_year):\n",
    "    for year in range(start_y, end_year + 1):\n",
    "        dd = dd.read_parquet(f\"yellow_tripdata_{year}*.parquet\")\n",
    "        # this can be done in parallel\n",
    "        df = dd.map_partitions(standardize_columns, year=year)\n",
    "        df = df.persist()\n",
    "    \n",
    "    "
   ]
  },
  {
   "cell_type": "code",
   "execution_count": null,
   "metadata": {},
   "outputs": [],
   "source": [
    "# map the 2009 schema "
   ]
  }
 ],
 "metadata": {
  "kernelspec": {
   "display_name": "ids_project2",
   "language": "python",
   "name": "python3"
  },
  "language_info": {
   "codemirror_mode": {
    "name": "ipython",
    "version": 3
   },
   "file_extension": ".py",
   "mimetype": "text/x-python",
   "name": "python",
   "nbconvert_exporter": "python",
   "pygments_lexer": "ipython3",
   "version": "3.11.5"
  }
 },
 "nbformat": 4,
 "nbformat_minor": 2
}
