{
 "cells": [
  {
   "cell_type": "markdown",
   "id": "669876fe",
   "metadata": {},
   "source": [
    "## Explore and get schemas by year\n",
    "\n",
    "### Parallel processing with delayed"
   ]
  },
  {
   "cell_type": "code",
   "execution_count": null,
   "id": "014b3888",
   "metadata": {},
   "outputs": [],
   "source": [
    "import json\n",
    "import os\n",
    "\n",
    "from dask import delayed\n",
    "import dask.dataframe as dd\n",
    "\n",
    "from dask_jobqueue import SLURMCluster\n",
    "from dask.distributed import Client\n",
    "from pprint import pprint\n",
    "\n",
    "INPUT_DATA_PATH = '/d/hpc/projects/FRI/bigdata/data/Taxi'\n",
    "HOME_DIR = '/d/hpc/projects/FRI/bigdata/students/in7357'\n",
    "# Configure SLURM cluster\n",
    "cluster = SLURMCluster(\n",
    "    queue='all',\n",
    "    processes=1,\n",
    "    cores=8,\n",
    "    memory='32GB',\n",
    "    walltime='00:10:00',\n",
    "    scheduler_options={'dashboard_address': ':8087'},\n",
    "    job_extra=['--output=slurm-%j.out'],\n",
    "    env_extra=['export LANG=\"en_US.utf8\"', 'export LC_ALL=\"en_US.utf8\"']\n",
    ")\n",
    "\n",
    "cluster.scale(jobs=10)\n",
    "\n",
    "client = Client(cluster)\n",
    "\n",
    "# Lazy evaluation to get column schemas\n",
    "@delayed\n",
    "def get_schema(path):\n",
    "    df = dd.read_parquet(path)\n",
    "    return {\n",
    "        'columns': df.columns.tolist(),\n",
    "        'dtypes': df.dtypes.to_dict()\n",
    "    }\n",
    "\n",
    "schemas_futures = {\n",
    "    year: get_schema(f\"{INPUT_DATA_PATH}/yellow_tripdata_{year}*.parquet\")\n",
    "    for year in range(2009, 2025)\n",
    "}\n",
    "\n",
    "# Compute in parallel on the cluster\n",
    "schemas = client.compute(schemas_futures, sync=True)\n",
    "\n",
    "\n",
    "with open(os.path.join(HOME_DIR, 'schemas.json'), 'w') as f:\n",
    "    json.dump(schemas, f, indent=2, default=str) \n",
    "\n",
    "pprint(schemas)\n"
   ]
  }
 ],
 "metadata": {
  "language_info": {
   "name": "python"
  }
 },
 "nbformat": 4,
 "nbformat_minor": 5
}
